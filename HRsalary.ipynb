{
 "cells": [
  {
   "cell_type": "markdown",
   "metadata": {},
   "source": [
    "# Import Libraries"
   ]
  },
  {
   "cell_type": "code",
   "execution_count": 1,
   "metadata": {},
   "outputs": [],
   "source": [
    "import pandas as pd\n",
    "import numpy as np\n",
    "import matplotlib.pyplot as plt\n",
    "import seaborn as sns"
   ]
  },
  {
   "cell_type": "markdown",
   "metadata": {},
   "source": [
    "# Loading dataset"
   ]
  },
  {
   "cell_type": "code",
   "execution_count": 2,
   "metadata": {},
   "outputs": [],
   "source": [
    "data=pd.read_csv(\"1614238459_salarydata.csv\")"
   ]
  },
  {
   "cell_type": "code",
   "execution_count": 3,
   "metadata": {},
   "outputs": [
    {
     "data": {
      "text/html": [
       "<div>\n",
       "<style scoped>\n",
       "    .dataframe tbody tr th:only-of-type {\n",
       "        vertical-align: middle;\n",
       "    }\n",
       "\n",
       "    .dataframe tbody tr th {\n",
       "        vertical-align: top;\n",
       "    }\n",
       "\n",
       "    .dataframe thead th {\n",
       "        text-align: right;\n",
       "    }\n",
       "</style>\n",
       "<table border=\"1\" class=\"dataframe\">\n",
       "  <thead>\n",
       "    <tr style=\"text-align: right;\">\n",
       "      <th></th>\n",
       "      <th>age</th>\n",
       "      <th>workclass</th>\n",
       "      <th>education</th>\n",
       "      <th>education-num</th>\n",
       "      <th>marital-status</th>\n",
       "      <th>occupation</th>\n",
       "      <th>relationship</th>\n",
       "      <th>race</th>\n",
       "      <th>sex</th>\n",
       "      <th>capital-gain</th>\n",
       "      <th>capital-loss</th>\n",
       "      <th>hours-per-week</th>\n",
       "      <th>native-country</th>\n",
       "      <th>salary</th>\n",
       "    </tr>\n",
       "  </thead>\n",
       "  <tbody>\n",
       "    <tr>\n",
       "      <th>0</th>\n",
       "      <td>39</td>\n",
       "      <td>State-gov</td>\n",
       "      <td>Bachelors</td>\n",
       "      <td>13</td>\n",
       "      <td>Never-married</td>\n",
       "      <td>Adm-clerical</td>\n",
       "      <td>Not-in-family</td>\n",
       "      <td>White</td>\n",
       "      <td>Male</td>\n",
       "      <td>2174</td>\n",
       "      <td>0</td>\n",
       "      <td>40</td>\n",
       "      <td>United-States</td>\n",
       "      <td>&lt;=50K</td>\n",
       "    </tr>\n",
       "    <tr>\n",
       "      <th>1</th>\n",
       "      <td>50</td>\n",
       "      <td>Self-emp-not-inc</td>\n",
       "      <td>Bachelors</td>\n",
       "      <td>13</td>\n",
       "      <td>Married-civ-spouse</td>\n",
       "      <td>Exec-managerial</td>\n",
       "      <td>Husband</td>\n",
       "      <td>White</td>\n",
       "      <td>Male</td>\n",
       "      <td>0</td>\n",
       "      <td>0</td>\n",
       "      <td>13</td>\n",
       "      <td>United-States</td>\n",
       "      <td>&lt;=50K</td>\n",
       "    </tr>\n",
       "    <tr>\n",
       "      <th>2</th>\n",
       "      <td>38</td>\n",
       "      <td>Private</td>\n",
       "      <td>HS-grad</td>\n",
       "      <td>9</td>\n",
       "      <td>Divorced</td>\n",
       "      <td>Handlers-cleaners</td>\n",
       "      <td>Not-in-family</td>\n",
       "      <td>White</td>\n",
       "      <td>Male</td>\n",
       "      <td>0</td>\n",
       "      <td>0</td>\n",
       "      <td>40</td>\n",
       "      <td>United-States</td>\n",
       "      <td>&lt;=50K</td>\n",
       "    </tr>\n",
       "    <tr>\n",
       "      <th>3</th>\n",
       "      <td>53</td>\n",
       "      <td>Private</td>\n",
       "      <td>11th</td>\n",
       "      <td>7</td>\n",
       "      <td>Married-civ-spouse</td>\n",
       "      <td>Handlers-cleaners</td>\n",
       "      <td>Husband</td>\n",
       "      <td>Black</td>\n",
       "      <td>Male</td>\n",
       "      <td>0</td>\n",
       "      <td>0</td>\n",
       "      <td>40</td>\n",
       "      <td>United-States</td>\n",
       "      <td>&lt;=50K</td>\n",
       "    </tr>\n",
       "    <tr>\n",
       "      <th>4</th>\n",
       "      <td>28</td>\n",
       "      <td>Private</td>\n",
       "      <td>Bachelors</td>\n",
       "      <td>13</td>\n",
       "      <td>Married-civ-spouse</td>\n",
       "      <td>Prof-specialty</td>\n",
       "      <td>Wife</td>\n",
       "      <td>Black</td>\n",
       "      <td>Female</td>\n",
       "      <td>0</td>\n",
       "      <td>0</td>\n",
       "      <td>40</td>\n",
       "      <td>Cuba</td>\n",
       "      <td>&lt;=50K</td>\n",
       "    </tr>\n",
       "  </tbody>\n",
       "</table>\n",
       "</div>"
      ],
      "text/plain": [
       "   age         workclass  education  education-num      marital-status  \\\n",
       "0   39         State-gov  Bachelors             13       Never-married   \n",
       "1   50  Self-emp-not-inc  Bachelors             13  Married-civ-spouse   \n",
       "2   38           Private    HS-grad              9            Divorced   \n",
       "3   53           Private       11th              7  Married-civ-spouse   \n",
       "4   28           Private  Bachelors             13  Married-civ-spouse   \n",
       "\n",
       "          occupation   relationship   race     sex  capital-gain  \\\n",
       "0       Adm-clerical  Not-in-family  White    Male          2174   \n",
       "1    Exec-managerial        Husband  White    Male             0   \n",
       "2  Handlers-cleaners  Not-in-family  White    Male             0   \n",
       "3  Handlers-cleaners        Husband  Black    Male             0   \n",
       "4     Prof-specialty           Wife  Black  Female             0   \n",
       "\n",
       "   capital-loss  hours-per-week native-country salary  \n",
       "0             0              40  United-States  <=50K  \n",
       "1             0              13  United-States  <=50K  \n",
       "2             0              40  United-States  <=50K  \n",
       "3             0              40  United-States  <=50K  \n",
       "4             0              40           Cuba  <=50K  "
      ]
     },
     "execution_count": 3,
     "metadata": {},
     "output_type": "execute_result"
    }
   ],
   "source": [
    "data.head()"
   ]
  },
  {
   "cell_type": "code",
   "execution_count": 4,
   "metadata": {},
   "outputs": [
    {
     "name": "stdout",
     "output_type": "stream",
     "text": [
      "<class 'pandas.core.frame.DataFrame'>\n",
      "RangeIndex: 32561 entries, 0 to 32560\n",
      "Data columns (total 14 columns):\n",
      " #   Column          Non-Null Count  Dtype \n",
      "---  ------          --------------  ----- \n",
      " 0   age             32561 non-null  int64 \n",
      " 1   workclass       32561 non-null  object\n",
      " 2   education       32561 non-null  object\n",
      " 3   education-num   32561 non-null  int64 \n",
      " 4   marital-status  32561 non-null  object\n",
      " 5   occupation      32561 non-null  object\n",
      " 6   relationship    32561 non-null  object\n",
      " 7   race            32561 non-null  object\n",
      " 8   sex             32561 non-null  object\n",
      " 9   capital-gain    32561 non-null  int64 \n",
      " 10  capital-loss    32561 non-null  int64 \n",
      " 11  hours-per-week  32561 non-null  int64 \n",
      " 12  native-country  32561 non-null  object\n",
      " 13  salary          32561 non-null  object\n",
      "dtypes: int64(5), object(9)\n",
      "memory usage: 3.5+ MB\n"
     ]
    }
   ],
   "source": [
    "data.info()"
   ]
  },
  {
   "cell_type": "code",
   "execution_count": 5,
   "metadata": {},
   "outputs": [
    {
     "data": {
      "text/plain": [
       "Index(['age', 'workclass', 'education', 'education-num', 'marital-status',\n",
       "       'occupation', 'relationship', 'race', 'sex', 'capital-gain',\n",
       "       'capital-loss', 'hours-per-week', 'native-country', 'salary'],\n",
       "      dtype='object')"
      ]
     },
     "execution_count": 5,
     "metadata": {},
     "output_type": "execute_result"
    }
   ],
   "source": [
    "data.columns"
   ]
  },
  {
   "cell_type": "code",
   "execution_count": 6,
   "metadata": {},
   "outputs": [
    {
     "data": {
      "text/plain": [
       "(32561, 14)"
      ]
     },
     "execution_count": 6,
     "metadata": {},
     "output_type": "execute_result"
    }
   ],
   "source": [
    "data.shape"
   ]
  },
  {
   "cell_type": "code",
   "execution_count": 7,
   "metadata": {},
   "outputs": [
    {
     "data": {
      "text/plain": [
       "age                int64\n",
       "workclass         object\n",
       "education         object\n",
       "education-num      int64\n",
       "marital-status    object\n",
       "occupation        object\n",
       "relationship      object\n",
       "race              object\n",
       "sex               object\n",
       "capital-gain       int64\n",
       "capital-loss       int64\n",
       "hours-per-week     int64\n",
       "native-country    object\n",
       "salary            object\n",
       "dtype: object"
      ]
     },
     "execution_count": 7,
     "metadata": {},
     "output_type": "execute_result"
    }
   ],
   "source": [
    "data.dtypes"
   ]
  },
  {
   "cell_type": "code",
   "execution_count": 8,
   "metadata": {},
   "outputs": [
    {
     "data": {
      "image/png": "[encoded data removed]",
      "text/plain": [
       "<Figure size 1080x576 with 6 Axes>"
      ]
     },
     "metadata": {
      "needs_background": "light"
     },
     "output_type": "display_data"
    }
   ],
   "source": [
    "freqgraph=data.select_dtypes(include=['int64'])\n",
    "freqgraph.hist(figsize=(15,8))\n",
    "plt.show()"
   ]
  },
  {
   "cell_type": "code",
   "execution_count": 9,
   "metadata": {},
   "outputs": [
    {
     "data": {
      "text/plain": [
       "age                0.558743\n",
       "education-num     -0.311676\n",
       "capital-gain      11.953848\n",
       "capital-loss       4.594629\n",
       "hours-per-week     0.227643\n",
       "dtype: float64"
      ]
     },
     "execution_count": 9,
     "metadata": {},
     "output_type": "execute_result"
    }
   ],
   "source": [
    "data.skew()"
   ]
  },
  {
   "cell_type": "code",
   "execution_count": 10,
   "metadata": {},
   "outputs": [
    {
     "data": {
      "image/png": "[encoded data removed]",
      "text/plain": [
       "<Figure size 432x288 with 1 Axes>"
      ]
     },
     "metadata": {
      "needs_background": "light"
     },
     "output_type": "display_data"
    }
   ],
   "source": [
    "plt.scatter(data['education-num'],data['age'])\n",
    "plt.show()"
   ]
  },
  {
   "cell_type": "code",
   "execution_count": 11,
   "metadata": {},
   "outputs": [
    {
     "data": {
      "image/png": "[encoded data removed]",
      "text/plain": [
       "<Figure size 432x288 with 1 Axes>"
      ]
     },
     "metadata": {
      "needs_background": "light"
     },
     "output_type": "display_data"
    }
   ],
   "source": [
    "plt.scatter(data['hours-per-week'],data['age'])\n",
    "plt.show()"
   ]
  },
  {
   "cell_type": "code",
   "execution_count": 12,
   "metadata": {},
   "outputs": [
    {
     "data": {
      "text/plain": [
       "<seaborn.axisgrid.PairGrid at 0x1ff61281640>"
      ]
     },
     "execution_count": 12,
     "metadata": {},
     "output_type": "execute_result"
    },
    {
     "data": {
      "image/png": "[encoded data removed]",
      "text/plain": [
       "<Figure size 900x900 with 30 Axes>"
      ]
     },
     "metadata": {
      "needs_background": "light"
     },
     "output_type": "display_data"
    }
   ],
   "source": [
    "sns.pairplot(data)"
   ]
  },
  {
   "cell_type": "code",
   "execution_count": 13,
   "metadata": {},
   "outputs": [
    {
     "data": {
      "text/plain": [
       "<matplotlib.axes._subplots.AxesSubplot at 0x1ff60c6a280>"
      ]
     },
     "execution_count": 13,
     "metadata": {},
     "output_type": "execute_result"
    },
    {
     "data": {
      "image/png": "[encoded data removed]",
      "text/plain": [
       "<Figure size 1080x576 with 2 Axes>"
      ]
     },
     "metadata": {
      "needs_background": "light"
     },
     "output_type": "display_data"
    }
   ],
   "source": [
    "#Data Correlation                     \n",
    "corrmatrix = data.corr()       #Assigning correlation function to variable\n",
    "plt.subplots(figsize =(15, 8)) \n",
    "sns.heatmap(corrmatrix, vmin = -0.4, vmax = 0.9, annot = True, cmap = \"YlGnBu\", linewidths = 0.1)   #Plotting correlation heatmap\n"
   ]
  },
  {
   "cell_type": "code",
   "execution_count": 14,
   "metadata": {},
   "outputs": [
    {
     "data": {
      "text/plain": [
       "age               0\n",
       "workclass         0\n",
       "education         0\n",
       "education-num     0\n",
       "marital-status    0\n",
       "occupation        0\n",
       "relationship      0\n",
       "race              0\n",
       "sex               0\n",
       "capital-gain      0\n",
       "capital-loss      0\n",
       "hours-per-week    0\n",
       "native-country    0\n",
       "salary            0\n",
       "dtype: int64"
      ]
     },
     "execution_count": 14,
     "metadata": {},
     "output_type": "execute_result"
    }
   ],
   "source": [
    "data.isna().sum()"
   ]
  },
  {
   "cell_type": "code",
   "execution_count": 15,
   "metadata": {},
   "outputs": [
    {
     "data": {
      "text/plain": [
       "3465"
      ]
     },
     "execution_count": 15,
     "metadata": {},
     "output_type": "execute_result"
    }
   ],
   "source": [
    "data.duplicated().sum()"
   ]
  },
  {
   "cell_type": "code",
   "execution_count": 16,
   "metadata": {},
   "outputs": [],
   "source": [
    "data=data.drop_duplicates()"
   ]
  },
  {
   "cell_type": "code",
   "execution_count": 17,
   "metadata": {},
   "outputs": [
    {
     "data": {
      "text/plain": [
       "0"
      ]
     },
     "execution_count": 17,
     "metadata": {},
     "output_type": "execute_result"
    }
   ],
   "source": [
    "data.duplicated().sum()"
   ]
  },
  {
   "cell_type": "code",
   "execution_count": 18,
   "metadata": {},
   "outputs": [],
   "source": [
    "df=pd.DataFrame(data)"
   ]
  },
  {
   "cell_type": "code",
   "execution_count": 19,
   "metadata": {},
   "outputs": [
    {
     "data": {
      "text/plain": [
       "Prof-specialty       3885\n",
       "Exec-managerial      3719\n",
       "Adm-clerical         3340\n",
       "Craft-repair         3298\n",
       "Sales                3270\n",
       "Other-service        2996\n",
       "Machine-op-inspct    1702\n",
       "?                    1639\n",
       "Transport-moving     1445\n",
       "Handlers-cleaners    1179\n",
       "Farming-fishing       962\n",
       "Tech-support          874\n",
       "Protective-serv       631\n",
       "Priv-house-serv       147\n",
       "Armed-Forces            9\n",
       "Name: occupation, dtype: int64"
      ]
     },
     "execution_count": 19,
     "metadata": {},
     "output_type": "execute_result"
    }
   ],
   "source": [
    "df['occupation'].value_counts()"
   ]
  },
  {
   "cell_type": "code",
   "execution_count": 20,
   "metadata": {},
   "outputs": [
    {
     "data": {
      "text/plain": [
       "Private             19621\n",
       "Self-emp-not-inc     2473\n",
       "Local-gov            2040\n",
       "?                    1632\n",
       "State-gov            1272\n",
       "Self-emp-inc         1091\n",
       "Federal-gov           946\n",
       "Without-pay            14\n",
       "Never-worked            7\n",
       "Name: workclass, dtype: int64"
      ]
     },
     "execution_count": 20,
     "metadata": {},
     "output_type": "execute_result"
    }
   ],
   "source": [
    "df['workclass'].value_counts()"
   ]
  },
  {
   "cell_type": "code",
   "execution_count": 21,
   "metadata": {},
   "outputs": [
    {
     "data": {
      "text/plain": [
       "United-States                 25721\n",
       "Mexico                          633\n",
       "?                               580\n",
       "Philippines                     198\n",
       "Germany                         137\n",
       "Canada                          121\n",
       "Puerto-Rico                     114\n",
       "El-Salvador                     106\n",
       "India                           100\n",
       "Cuba                             95\n",
       "England                          90\n",
       "Jamaica                          81\n",
       "South                            80\n",
       "China                            75\n",
       "Italy                            73\n",
       "Dominican-Republic               70\n",
       "Vietnam                          67\n",
       "Guatemala                        62\n",
       "Japan                            62\n",
       "Poland                           60\n",
       "Columbia                         59\n",
       "Taiwan                           51\n",
       "Haiti                            44\n",
       "Iran                             43\n",
       "Portugal                         37\n",
       "Nicaragua                        34\n",
       "Peru                             31\n",
       "Greece                           29\n",
       "France                           29\n",
       "Ecuador                          28\n",
       "Ireland                          23\n",
       "Hong                             20\n",
       "Trinadad&Tobago                  19\n",
       "Cambodia                         19\n",
       "Thailand                         18\n",
       "Laos                             18\n",
       "Yugoslavia                       16\n",
       "Outlying-US(Guam-USVI-etc)       14\n",
       "Honduras                         13\n",
       "Hungary                          13\n",
       "Scotland                         12\n",
       "Holand-Netherlands                1\n",
       "Name: native-country, dtype: int64"
      ]
     },
     "execution_count": 21,
     "metadata": {},
     "output_type": "execute_result"
    }
   ],
   "source": [
    "df['native-country'].value_counts()"
   ]
  },
  {
   "cell_type": "code",
   "execution_count": 22,
   "metadata": {},
   "outputs": [],
   "source": [
    "df['native-country']=df['native-country'].replace('?','United-States')"
   ]
  },
  {
   "cell_type": "code",
   "execution_count": 23,
   "metadata": {},
   "outputs": [
    {
     "data": {
      "text/plain": [
       "United-States                 26301\n",
       "Mexico                          633\n",
       "Philippines                     198\n",
       "Germany                         137\n",
       "Canada                          121\n",
       "Puerto-Rico                     114\n",
       "El-Salvador                     106\n",
       "India                           100\n",
       "Cuba                             95\n",
       "England                          90\n",
       "Jamaica                          81\n",
       "South                            80\n",
       "China                            75\n",
       "Italy                            73\n",
       "Dominican-Republic               70\n",
       "Vietnam                          67\n",
       "Guatemala                        62\n",
       "Japan                            62\n",
       "Poland                           60\n",
       "Columbia                         59\n",
       "Taiwan                           51\n",
       "Haiti                            44\n",
       "Iran                             43\n",
       "Portugal                         37\n",
       "Nicaragua                        34\n",
       "Peru                             31\n",
       "Greece                           29\n",
       "France                           29\n",
       "Ecuador                          28\n",
       "Ireland                          23\n",
       "Hong                             20\n",
       "Trinadad&Tobago                  19\n",
       "Cambodia                         19\n",
       "Thailand                         18\n",
       "Laos                             18\n",
       "Yugoslavia                       16\n",
       "Outlying-US(Guam-USVI-etc)       14\n",
       "Honduras                         13\n",
       "Hungary                          13\n",
       "Scotland                         12\n",
       "Holand-Netherlands                1\n",
       "Name: native-country, dtype: int64"
      ]
     },
     "execution_count": 23,
     "metadata": {},
     "output_type": "execute_result"
    }
   ],
   "source": [
    "df['native-country'].value_counts()"
   ]
  },
  {
   "cell_type": "code",
   "execution_count": 24,
   "metadata": {},
   "outputs": [],
   "source": [
    "df['workclass']=df['workclass'].replace('?','Private ')"
   ]
  },
  {
   "cell_type": "code",
   "execution_count": 25,
   "metadata": {},
   "outputs": [
    {
     "data": {
      "text/plain": [
       "Private             19621\n",
       "Self-emp-not-inc     2473\n",
       "Local-gov            2040\n",
       "Private              1632\n",
       "State-gov            1272\n",
       "Self-emp-inc         1091\n",
       "Federal-gov           946\n",
       "Without-pay            14\n",
       "Never-worked            7\n",
       "Name: workclass, dtype: int64"
      ]
     },
     "execution_count": 25,
     "metadata": {},
     "output_type": "execute_result"
    }
   ],
   "source": [
    "df['workclass'].value_counts()"
   ]
  },
  {
   "cell_type": "code",
   "execution_count": 26,
   "metadata": {},
   "outputs": [],
   "source": [
    "df['occupation']=df['occupation'].replace('?','Prof-specialty')"
   ]
  },
  {
   "cell_type": "code",
   "execution_count": 27,
   "metadata": {},
   "outputs": [
    {
     "data": {
      "text/plain": [
       "Prof-specialty       5524\n",
       "Exec-managerial      3719\n",
       "Adm-clerical         3340\n",
       "Craft-repair         3298\n",
       "Sales                3270\n",
       "Other-service        2996\n",
       "Machine-op-inspct    1702\n",
       "Transport-moving     1445\n",
       "Handlers-cleaners    1179\n",
       "Farming-fishing       962\n",
       "Tech-support          874\n",
       "Protective-serv       631\n",
       "Priv-house-serv       147\n",
       "Armed-Forces            9\n",
       "Name: occupation, dtype: int64"
      ]
     },
     "execution_count": 27,
     "metadata": {},
     "output_type": "execute_result"
    }
   ],
   "source": [
    "df['occupation'].value_counts()"
   ]
  },
  {
   "cell_type": "code",
   "execution_count": 28,
   "metadata": {},
   "outputs": [
    {
     "name": "stdout",
     "output_type": "stream",
     "text": [
      "0\n"
     ]
    }
   ],
   "source": [
    "x=0\n",
    "for i in data['native-country']:\n",
    "    if(i=='?'):\n",
    "        x=x+1\n",
    "print(x)        \n"
   ]
  },
  {
   "cell_type": "code",
   "execution_count": 29,
   "metadata": {},
   "outputs": [
    {
     "data": {
      "text/plain": [
       "age                int64\n",
       "workclass         object\n",
       "education         object\n",
       "education-num      int64\n",
       "marital-status    object\n",
       "occupation        object\n",
       "relationship      object\n",
       "race              object\n",
       "sex               object\n",
       "capital-gain       int64\n",
       "capital-loss       int64\n",
       "hours-per-week     int64\n",
       "native-country    object\n",
       "salary            object\n",
       "dtype: object"
      ]
     },
     "execution_count": 29,
     "metadata": {},
     "output_type": "execute_result"
    }
   ],
   "source": [
    "data.dtypes"
   ]
  },
  {
   "cell_type": "code",
   "execution_count": 30,
   "metadata": {},
   "outputs": [
    {
     "data": {
      "text/plain": [
       "Index(['age', 'workclass', 'education', 'education-num', 'marital-status',\n",
       "       'occupation', 'relationship', 'race', 'sex', 'capital-gain',\n",
       "       'capital-loss', 'hours-per-week', 'native-country', 'salary'],\n",
       "      dtype='object')"
      ]
     },
     "execution_count": 30,
     "metadata": {},
     "output_type": "execute_result"
    }
   ],
   "source": [
    "data.columns"
   ]
  },
  {
   "cell_type": "code",
   "execution_count": 31,
   "metadata": {},
   "outputs": [],
   "source": [
    "df=pd.DataFrame(data)"
   ]
  },
  {
   "cell_type": "code",
   "execution_count": 32,
   "metadata": {},
   "outputs": [
    {
     "data": {
      "image/png": "[encoded data removed]",
      "text/plain": [
       "<Figure size 432x288 with 1 Axes>"
      ]
     },
     "metadata": {
      "needs_background": "light"
     },
     "output_type": "display_data"
    },
    {
     "data": {
      "image/png": "[encoded data removed]",
      "text/plain": [
       "<Figure size 432x288 with 1 Axes>"
      ]
     },
     "metadata": {
      "needs_background": "light"
     },
     "output_type": "display_data"
    },
    {
     "data": {
      "image/png": "[encoded data removed]",
      "text/plain": [
       "<Figure size 432x288 with 1 Axes>"
      ]
     },
     "metadata": {
      "needs_background": "light"
     },
     "output_type": "display_data"
    }
   ],
   "source": [
    "for i in ['age', 'education-num', 'hours-per-week']:\n",
    "    plt.figure()\n",
    "    df.boxplot([i])"
   ]
  },
  {
   "cell_type": "markdown",
   "metadata": {},
   "source": [
    "# outlier -age"
   ]
  },
  {
   "cell_type": "code",
   "execution_count": 33,
   "metadata": {},
   "outputs": [],
   "source": [
    "q1=np.percentile(data['age'],25, interpolation='midpoint')\n",
    "q2=np.percentile(data['age'],50, interpolation='midpoint')\n",
    "q3=np.percentile(data['age'],75,interpolation='midpoint')"
   ]
  },
  {
   "cell_type": "code",
   "execution_count": 34,
   "metadata": {},
   "outputs": [
    {
     "name": "stdout",
     "output_type": "stream",
     "text": [
      "q1 is 28.0\n",
      "q2 is 38.0\n",
      "q3 is 48.0\n",
      "IQR is 20.0\n",
      "lower limit is -2.0\n",
      "upper limit is 78.0\n"
     ]
    }
   ],
   "source": [
    "print(\"q1 is\", q1)\n",
    "print(\"q2 is\",q2)\n",
    "print(\"q3 is\",q3)\n",
    "iqr=q3-q1\n",
    "print(\"IQR is\",iqr)\n",
    "low_lim=q1-1.5*iqr\n",
    "up_lim=q3+1.5*iqr\n",
    "print(\"lower limit is\",low_lim)\n",
    "print(\"upper limit is\",up_lim)"
   ]
  },
  {
   "cell_type": "code",
   "execution_count": 35,
   "metadata": {},
   "outputs": [
    {
     "data": {
      "text/plain": [
       "[79,\n",
       " 90,\n",
       " 80,\n",
       " 81,\n",
       " 90,\n",
       " 88,\n",
       " 90,\n",
       " 90,\n",
       " 80,\n",
       " 90,\n",
       " 81,\n",
       " 82,\n",
       " 79,\n",
       " 81,\n",
       " 80,\n",
       " 83,\n",
       " 90,\n",
       " 90,\n",
       " 79,\n",
       " 81,\n",
       " 90,\n",
       " 80,\n",
       " 90,\n",
       " 90,\n",
       " 79,\n",
       " 79,\n",
       " 84,\n",
       " 90,\n",
       " 80,\n",
       " 90,\n",
       " 81,\n",
       " 83,\n",
       " 84,\n",
       " 81,\n",
       " 79,\n",
       " 85,\n",
       " 82,\n",
       " 79,\n",
       " 80,\n",
       " 90,\n",
       " 90,\n",
       " 90,\n",
       " 84,\n",
       " 80,\n",
       " 90,\n",
       " 90,\n",
       " 79,\n",
       " 84,\n",
       " 90,\n",
       " 79,\n",
       " 90,\n",
       " 90,\n",
       " 90,\n",
       " 82,\n",
       " 81,\n",
       " 90,\n",
       " 84,\n",
       " 79,\n",
       " 81,\n",
       " 82,\n",
       " 81,\n",
       " 80,\n",
       " 90,\n",
       " 80,\n",
       " 84,\n",
       " 82,\n",
       " 79,\n",
       " 90,\n",
       " 84,\n",
       " 90,\n",
       " 83,\n",
       " 79,\n",
       " 81,\n",
       " 80,\n",
       " 79,\n",
       " 80,\n",
       " 79,\n",
       " 80,\n",
       " 90,\n",
       " 90,\n",
       " 80,\n",
       " 90,\n",
       " 90,\n",
       " 81,\n",
       " 83,\n",
       " 82,\n",
       " 90,\n",
       " 90,\n",
       " 81,\n",
       " 80,\n",
       " 80,\n",
       " 90,\n",
       " 79,\n",
       " 80,\n",
       " 82,\n",
       " 85,\n",
       " 80,\n",
       " 79,\n",
       " 90,\n",
       " 81,\n",
       " 79,\n",
       " 80,\n",
       " 79,\n",
       " 81,\n",
       " 82,\n",
       " 88,\n",
       " 90,\n",
       " 82,\n",
       " 88,\n",
       " 84,\n",
       " 83,\n",
       " 79,\n",
       " 86,\n",
       " 90,\n",
       " 90,\n",
       " 82,\n",
       " 83,\n",
       " 81,\n",
       " 79,\n",
       " 90,\n",
       " 80,\n",
       " 81,\n",
       " 79,\n",
       " 84,\n",
       " 84,\n",
       " 79,\n",
       " 90,\n",
       " 80,\n",
       " 81,\n",
       " 81,\n",
       " 81,\n",
       " 87,\n",
       " 90,\n",
       " 80,\n",
       " 80,\n",
       " 82,\n",
       " 90,\n",
       " 90,\n",
       " 85,\n",
       " 82,\n",
       " 81]"
      ]
     },
     "execution_count": 35,
     "metadata": {},
     "output_type": "execute_result"
    }
   ],
   "source": [
    "outlier=[]\n",
    "for x in data['age']:\n",
    "    if((x>up_lim) or (x<low_lim)):\n",
    "        outlier.append(x)\n",
    "outlier   "
   ]
  },
  {
   "cell_type": "code",
   "execution_count": 36,
   "metadata": {},
   "outputs": [
    {
     "data": {
      "text/plain": [
       "Int64Index([   74,   222,   430,   918,  1040,  1168,  1935,  2303,  2754,\n",
       "             2891,\n",
       "            ...\n",
       "            31432, 31696, 31814, 31836, 31855, 32277, 32367, 32459, 32494,\n",
       "            32525],\n",
       "           dtype='int64', length=141)"
      ]
     },
     "execution_count": 36,
     "metadata": {},
     "output_type": "execute_result"
    }
   ],
   "source": [
    "ind1=data['age']>up_lim\n",
    "data.loc[ind1].index"
   ]
  },
  {
   "cell_type": "code",
   "execution_count": 37,
   "metadata": {},
   "outputs": [
    {
     "name": "stderr",
     "output_type": "stream",
     "text": [
      "C:\\Users\\HP\\anaconda3\\lib\\site-packages\\pandas\\core\\frame.py:3990: SettingWithCopyWarning: \n",
      "A value is trying to be set on a copy of a slice from a DataFrame\n",
      "\n",
      "See the caveats in the documentation: https://pandas.pydata.org/pandas-docs/stable/user_guide/indexing.html#returning-a-view-versus-a-copy\n",
      "  return super().drop(\n"
     ]
    }
   ],
   "source": [
    "data.drop(data.loc[ind1].index,inplace=True)"
   ]
  },
  {
   "cell_type": "code",
   "execution_count": 38,
   "metadata": {},
   "outputs": [
    {
     "data": {
      "text/plain": [
       "Text(0.5, 1.0, \"Boxplot of 'age\")"
      ]
     },
     "execution_count": 38,
     "metadata": {},
     "output_type": "execute_result"
    },
    {
     "data": {
      "image/png": "[encoded data removed]",
      "text/plain": [
       "<Figure size 432x288 with 1 Axes>"
      ]
     },
     "metadata": {
      "needs_background": "light"
     },
     "output_type": "display_data"
    }
   ],
   "source": [
    "plt.boxplot(data['age'])\n",
    "plt.title(\"Boxplot of 'age\")"
   ]
  },
  {
   "cell_type": "markdown",
   "metadata": {},
   "source": [
    "# outlier- education num"
   ]
  },
  {
   "cell_type": "code",
   "execution_count": 39,
   "metadata": {},
   "outputs": [],
   "source": [
    "q1=np.percentile(data['education-num'],25, interpolation='midpoint')\n",
    "q2=np.percentile(data['education-num'],50, interpolation='midpoint')\n",
    "q3=np.percentile(data['education-num'],75,interpolation='midpoint')"
   ]
  },
  {
   "cell_type": "code",
   "execution_count": 40,
   "metadata": {},
   "outputs": [
    {
     "name": "stdout",
     "output_type": "stream",
     "text": [
      "q1 is 9.0\n",
      "q2 is 10.0\n",
      "q3 is 13.0\n",
      "IQR is 4.0\n",
      "lower limit is 3.0\n",
      "upper limit is 19.0\n"
     ]
    }
   ],
   "source": [
    "print(\"q1 is\", q1)\n",
    "print(\"q2 is\",q2)\n",
    "print(\"q3 is\",q3)\n",
    "iqr=q3-q1\n",
    "print(\"IQR is\",iqr)\n",
    "low_lim=q1-1.5*iqr\n",
    "up_lim=q3+1.5*iqr\n",
    "print(\"lower limit is\",low_lim)\n",
    "print(\"upper limit is\",up_lim)"
   ]
  },
  {
   "cell_type": "code",
   "execution_count": 41,
   "metadata": {},
   "outputs": [
    {
     "data": {
      "text/plain": [
       "[2,\n",
       " 2,\n",
       " 1,\n",
       " 2,\n",
       " 2,\n",
       " 2,\n",
       " 2,\n",
       " 2,\n",
       " 1,\n",
       " 2,\n",
       " 2,\n",
       " 2,\n",
       " 2,\n",
       " 2,\n",
       " 2,\n",
       " 2,\n",
       " 2,\n",
       " 2,\n",
       " 1,\n",
       " 1,\n",
       " 2,\n",
       " 1,\n",
       " 1,\n",
       " 2,\n",
       " 1,\n",
       " 2,\n",
       " 2,\n",
       " 2,\n",
       " 2,\n",
       " 2,\n",
       " 2,\n",
       " 2,\n",
       " 2,\n",
       " 2,\n",
       " 2,\n",
       " 2,\n",
       " 2,\n",
       " 2,\n",
       " 2,\n",
       " 1,\n",
       " 1,\n",
       " 1,\n",
       " 1,\n",
       " 2,\n",
       " 2,\n",
       " 2,\n",
       " 2,\n",
       " 2,\n",
       " 1,\n",
       " 1,\n",
       " 1,\n",
       " 1,\n",
       " 2,\n",
       " 2,\n",
       " 2,\n",
       " 2,\n",
       " 1,\n",
       " 2,\n",
       " 2,\n",
       " 2,\n",
       " 2,\n",
       " 2,\n",
       " 2,\n",
       " 2,\n",
       " 2,\n",
       " 2,\n",
       " 1,\n",
       " 2,\n",
       " 2,\n",
       " 2,\n",
       " 2,\n",
       " 1,\n",
       " 2,\n",
       " 2,\n",
       " 1,\n",
       " 1,\n",
       " 2,\n",
       " 2,\n",
       " 2,\n",
       " 2,\n",
       " 2,\n",
       " 2,\n",
       " 2,\n",
       " 1,\n",
       " 2,\n",
       " 2,\n",
       " 2,\n",
       " 2,\n",
       " 2,\n",
       " 2,\n",
       " 2,\n",
       " 2,\n",
       " 2,\n",
       " 2,\n",
       " 2,\n",
       " 2,\n",
       " 2,\n",
       " 2,\n",
       " 2,\n",
       " 2,\n",
       " 2,\n",
       " 2,\n",
       " 1,\n",
       " 1,\n",
       " 2,\n",
       " 2,\n",
       " 2,\n",
       " 2,\n",
       " 2,\n",
       " 2,\n",
       " 2,\n",
       " 1,\n",
       " 2,\n",
       " 2,\n",
       " 2,\n",
       " 2,\n",
       " 2,\n",
       " 2,\n",
       " 2,\n",
       " 2,\n",
       " 2,\n",
       " 2,\n",
       " 1,\n",
       " 2,\n",
       " 2,\n",
       " 2,\n",
       " 1,\n",
       " 1,\n",
       " 2,\n",
       " 2,\n",
       " 1,\n",
       " 1,\n",
       " 2,\n",
       " 2,\n",
       " 1,\n",
       " 2,\n",
       " 2,\n",
       " 1,\n",
       " 2,\n",
       " 1,\n",
       " 2,\n",
       " 2,\n",
       " 2,\n",
       " 2,\n",
       " 2,\n",
       " 1,\n",
       " 2,\n",
       " 1,\n",
       " 1,\n",
       " 2,\n",
       " 1,\n",
       " 1,\n",
       " 1,\n",
       " 2,\n",
       " 1,\n",
       " 2,\n",
       " 1,\n",
       " 2,\n",
       " 2,\n",
       " 1,\n",
       " 1,\n",
       " 2,\n",
       " 2,\n",
       " 2,\n",
       " 2,\n",
       " 1,\n",
       " 2,\n",
       " 1,\n",
       " 2,\n",
       " 2,\n",
       " 2,\n",
       " 2,\n",
       " 2,\n",
       " 2,\n",
       " 2,\n",
       " 2,\n",
       " 1,\n",
       " 2,\n",
       " 2,\n",
       " 2,\n",
       " 2,\n",
       " 2,\n",
       " 2,\n",
       " 2,\n",
       " 2,\n",
       " 2,\n",
       " 2,\n",
       " 2,\n",
       " 2,\n",
       " 2,\n",
       " 2,\n",
       " 2,\n",
       " 2,\n",
       " 2,\n",
       " 2,\n",
       " 2,\n",
       " 2,\n",
       " 2,\n",
       " 2,\n",
       " 2,\n",
       " 1,\n",
       " 2,\n",
       " 2,\n",
       " 2,\n",
       " 1,\n",
       " 2,\n",
       " 1,\n",
       " 2,\n",
       " 1,\n",
       " 2,\n",
       " 2,\n",
       " 1]"
      ]
     },
     "execution_count": 41,
     "metadata": {},
     "output_type": "execute_result"
    }
   ],
   "source": [
    "outlier=[]\n",
    "for x in data['education-num']:\n",
    "    if((x>up_lim) or (x<low_lim)):\n",
    "        outlier.append(x)\n",
    "outlier    "
   ]
  },
  {
   "cell_type": "code",
   "execution_count": 42,
   "metadata": {},
   "outputs": [
    {
     "data": {
      "text/plain": [
       "Int64Index([], dtype='int64')"
      ]
     },
     "execution_count": 42,
     "metadata": {},
     "output_type": "execute_result"
    }
   ],
   "source": [
    "ind1=data['education-num']>up_lim\n",
    "data.loc[ind1].index\n"
   ]
  },
  {
   "cell_type": "code",
   "execution_count": 43,
   "metadata": {},
   "outputs": [
    {
     "name": "stderr",
     "output_type": "stream",
     "text": [
      "C:\\Users\\HP\\anaconda3\\lib\\site-packages\\pandas\\core\\frame.py:3990: SettingWithCopyWarning: \n",
      "A value is trying to be set on a copy of a slice from a DataFrame\n",
      "\n",
      "See the caveats in the documentation: https://pandas.pydata.org/pandas-docs/stable/user_guide/indexing.html#returning-a-view-versus-a-copy\n",
      "  return super().drop(\n"
     ]
    }
   ],
   "source": [
    "data.drop(data.loc[ind1].index,inplace=True)"
   ]
  },
  {
   "cell_type": "code",
   "execution_count": 44,
   "metadata": {},
   "outputs": [
    {
     "data": {
      "text/plain": [
       "Text(0.5, 1.0, \"Boxplot of 'education-num\")"
      ]
     },
     "execution_count": 44,
     "metadata": {},
     "output_type": "execute_result"
    },
    {
     "data": {
      "image/png": "[encoded data removed]",
      "text/plain": [
       "<Figure size 432x288 with 1 Axes>"
      ]
     },
     "metadata": {
      "needs_background": "light"
     },
     "output_type": "display_data"
    }
   ],
   "source": [
    "plt.boxplot(data['education-num'])\n",
    "plt.title(\"Boxplot of 'education-num\")"
   ]
  },
  {
   "cell_type": "markdown",
   "metadata": {},
   "source": [
    "# outlier-'hours-per-week'"
   ]
  },
  {
   "cell_type": "code",
   "execution_count": 45,
   "metadata": {},
   "outputs": [
    {
     "name": "stdout",
     "output_type": "stream",
     "text": [
      "q1 is 40.0\n",
      "q2 is 40.0\n",
      "q3 is 45.0\n",
      "IQR is 5.0\n",
      "lower limit is 32.5\n",
      "upper limit is 52.5\n"
     ]
    }
   ],
   "source": [
    "q1=np.percentile(data['hours-per-week'],25, interpolation='midpoint')\n",
    "q2=np.percentile(data['hours-per-week'],50, interpolation='midpoint')\n",
    "q3=np.percentile(data['hours-per-week'],75,interpolation='midpoint')\n",
    "print(\"q1 is\", q1)\n",
    "print(\"q2 is\",q2)\n",
    "print(\"q3 is\",q3)\n",
    "iqr=q3-q1\n",
    "print(\"IQR is\",iqr)\n",
    "low_lim=q1-1.5*iqr\n",
    "up_lim=q3+1.5*iqr\n",
    "print(\"lower limit is\",low_lim)\n",
    "print(\"upper limit is\",up_lim)"
   ]
  },
  {
   "cell_type": "code",
   "execution_count": 46,
   "metadata": {},
   "outputs": [
    {
     "data": {
      "text/plain": [
       "[13,\n",
       " 16,\n",
       " 80,\n",
       " 30,\n",
       " 60,\n",
       " 20,\n",
       " 60,\n",
       " 80,\n",
       " 15,\n",
       " 25,\n",
       " 30,\n",
       " 60,\n",
       " 55,\n",
       " 60,\n",
       " 58,\n",
       " 32,\n",
       " 70,\n",
       " 2,\n",
       " 22,\n",
       " 30,\n",
       " 25,\n",
       " 60,\n",
       " 60,\n",
       " 32,\n",
       " 25,\n",
       " 56,\n",
       " 60,\n",
       " 28,\n",
       " 60,\n",
       " 60,\n",
       " 20,\n",
       " 30,\n",
       " 30,\n",
       " 24,\n",
       " 24,\n",
       " 2,\n",
       " 60,\n",
       " 20,\n",
       " 16,\n",
       " 20,\n",
       " 25,\n",
       " 12,\n",
       " 65,\n",
       " 1,\n",
       " 28,\n",
       " 24,\n",
       " 55,\n",
       " 60,\n",
       " 12,\n",
       " 60,\n",
       " 55,\n",
       " 20,\n",
       " 10,\n",
       " 20,\n",
       " 55,\n",
       " 70,\n",
       " 20,\n",
       " 20,\n",
       " 60,\n",
       " 30,\n",
       " 20,\n",
       " 30,\n",
       " 60,\n",
       " 12,\n",
       " 75,\n",
       " 24,\n",
       " 24,\n",
       " 98,\n",
       " 15,\n",
       " 60,\n",
       " 56,\n",
       " 16,\n",
       " 60,\n",
       " 80,\n",
       " 25,\n",
       " 54,\n",
       " 25,\n",
       " 15,\n",
       " 24,\n",
       " 10,\n",
       " 15,\n",
       " 55,\n",
       " 60,\n",
       " 30,\n",
       " 20,\n",
       " 8,\n",
       " 25,\n",
       " 25,\n",
       " 30,\n",
       " 24,\n",
       " 55,\n",
       " 15,\n",
       " 15,\n",
       " 10,\n",
       " 10,\n",
       " 30,\n",
       " 25,\n",
       " 6,\n",
       " 16,\n",
       " 55,\n",
       " 64,\n",
       " 65,\n",
       " 25,\n",
       " 24,\n",
       " 60,\n",
       " 19,\n",
       " 30,\n",
       " 18,\n",
       " 60,\n",
       " 72,\n",
       " 25,\n",
       " 60,\n",
       " 28,\n",
       " 5,\n",
       " 55,\n",
       " 60,\n",
       " 20,\n",
       " 60,\n",
       " 16,\n",
       " 60,\n",
       " 24,\n",
       " 6,\n",
       " 30,\n",
       " 20,\n",
       " 20,\n",
       " 20,\n",
       " 60,\n",
       " 60,\n",
       " 25,\n",
       " 20,\n",
       " 20,\n",
       " 8,\n",
       " 30,\n",
       " 20,\n",
       " 24,\n",
       " 80,\n",
       " 58,\n",
       " 9,\n",
       " 30,\n",
       " 8,\n",
       " 20,\n",
       " 32,\n",
       " 55,\n",
       " 60,\n",
       " 12,\n",
       " 70,\n",
       " 25,\n",
       " 30,\n",
       " 24,\n",
       " 60,\n",
       " 80,\n",
       " 25,\n",
       " 28,\n",
       " 21,\n",
       " 60,\n",
       " 20,\n",
       " 60,\n",
       " 32,\n",
       " 55,\n",
       " 20,\n",
       " 20,\n",
       " 24,\n",
       " 55,\n",
       " 60,\n",
       " 64,\n",
       " 26,\n",
       " 60,\n",
       " 60,\n",
       " 14,\n",
       " 60,\n",
       " 60,\n",
       " 55,\n",
       " 15,\n",
       " 20,\n",
       " 32,\n",
       " 15,\n",
       " 60,\n",
       " 25,\n",
       " 20,\n",
       " 10,\n",
       " 16,\n",
       " 5,\n",
       " 4,\n",
       " 55,\n",
       " 30,\n",
       " 20,\n",
       " 20,\n",
       " 60,\n",
       " 20,\n",
       " 30,\n",
       " 65,\n",
       " 25,\n",
       " 15,\n",
       " 60,\n",
       " 20,\n",
       " 59,\n",
       " 24,\n",
       " 15,\n",
       " 20,\n",
       " 25,\n",
       " 72,\n",
       " 20,\n",
       " 20,\n",
       " 18,\n",
       " 70,\n",
       " 55,\n",
       " 30,\n",
       " 32,\n",
       " 55,\n",
       " 24,\n",
       " 56,\n",
       " 60,\n",
       " 55,\n",
       " 30,\n",
       " 16,\n",
       " 60,\n",
       " 20,\n",
       " 30,\n",
       " 20,\n",
       " 20,\n",
       " 30,\n",
       " 20,\n",
       " 75,\n",
       " 60,\n",
       " 60,\n",
       " 24,\n",
       " 25,\n",
       " 15,\n",
       " 24,\n",
       " 6,\n",
       " 20,\n",
       " 18,\n",
       " 55,\n",
       " 56,\n",
       " 20,\n",
       " 70,\n",
       " 15,\n",
       " 28,\n",
       " 25,\n",
       " 60,\n",
       " 7,\n",
       " 30,\n",
       " 70,\n",
       " 60,\n",
       " 15,\n",
       " 28,\n",
       " 60,\n",
       " 30,\n",
       " 65,\n",
       " 55,\n",
       " 55,\n",
       " 20,\n",
       " 15,\n",
       " 10,\n",
       " 30,\n",
       " 60,\n",
       " 20,\n",
       " 25,\n",
       " 5,\n",
       " 60,\n",
       " 55,\n",
       " 10,\n",
       " 99,\n",
       " 25,\n",
       " 30,\n",
       " 20,\n",
       " 30,\n",
       " 70,\n",
       " 70,\n",
       " 20,\n",
       " 60,\n",
       " 20,\n",
       " 20,\n",
       " 70,\n",
       " 20,\n",
       " 30,\n",
       " 55,\n",
       " 58,\n",
       " 65,\n",
       " 60,\n",
       " 16,\n",
       " 25,\n",
       " 32,\n",
       " 30,\n",
       " 30,\n",
       " 55,\n",
       " 20,\n",
       " 2,\n",
       " 1,\n",
       " 75,\n",
       " 30,\n",
       " 8,\n",
       " 60,\n",
       " 55,\n",
       " 20,\n",
       " 55,\n",
       " 75,\n",
       " 32,\n",
       " 80,\n",
       " 80,\n",
       " 60,\n",
       " 20,\n",
       " 15,\n",
       " 20,\n",
       " 60,\n",
       " 28,\n",
       " 60,\n",
       " 20,\n",
       " 25,\n",
       " 8,\n",
       " 60,\n",
       " 25,\n",
       " 25,\n",
       " 55,\n",
       " 70,\n",
       " 60,\n",
       " 53,\n",
       " 20,\n",
       " 60,\n",
       " 60,\n",
       " 30,\n",
       " 54,\n",
       " 54,\n",
       " 28,\n",
       " 60,\n",
       " 20,\n",
       " 8,\n",
       " 99,\n",
       " 30,\n",
       " 30,\n",
       " 30,\n",
       " 65,\n",
       " 60,\n",
       " 25,\n",
       " 60,\n",
       " 55,\n",
       " 80,\n",
       " 30,\n",
       " 60,\n",
       " 62,\n",
       " 20,\n",
       " 16,\n",
       " 72,\n",
       " 60,\n",
       " 60,\n",
       " 30,\n",
       " 24,\n",
       " 30,\n",
       " 25,\n",
       " 59,\n",
       " 12,\n",
       " 20,\n",
       " 60,\n",
       " 60,\n",
       " 1,\n",
       " 80,\n",
       " 7,\n",
       " 10,\n",
       " 30,\n",
       " 65,\n",
       " 57,\n",
       " 60,\n",
       " 25,\n",
       " 55,\n",
       " 30,\n",
       " 24,\n",
       " 20,\n",
       " 20,\n",
       " 60,\n",
       " 16,\n",
       " 16,\n",
       " 30,\n",
       " 60,\n",
       " 60,\n",
       " 55,\n",
       " 24,\n",
       " 6,\n",
       " 30,\n",
       " 55,\n",
       " 60,\n",
       " 70,\n",
       " 5,\n",
       " 30,\n",
       " 60,\n",
       " 25,\n",
       " 32,\n",
       " 78,\n",
       " 60,\n",
       " 20,\n",
       " 90,\n",
       " 15,\n",
       " 60,\n",
       " 16,\n",
       " 60,\n",
       " 66,\n",
       " 30,\n",
       " 60,\n",
       " 2,\n",
       " 60,\n",
       " 75,\n",
       " 60,\n",
       " 5,\n",
       " 11,\n",
       " 24,\n",
       " 25,\n",
       " 25,\n",
       " 60,\n",
       " 65,\n",
       " 55,\n",
       " 80,\n",
       " 55,\n",
       " 14,\n",
       " 65,\n",
       " 58,\n",
       " 30,\n",
       " 9,\n",
       " 55,\n",
       " 15,\n",
       " 12,\n",
       " 30,\n",
       " 70,\n",
       " 30,\n",
       " 24,\n",
       " 30,\n",
       " 65,\n",
       " 8,\n",
       " 6,\n",
       " 16,\n",
       " 16,\n",
       " 30,\n",
       " 8,\n",
       " 20,\n",
       " 16,\n",
       " 10,\n",
       " 60,\n",
       " 60,\n",
       " 60,\n",
       " 20,\n",
       " 30,\n",
       " 30,\n",
       " 60,\n",
       " 70,\n",
       " 60,\n",
       " 21,\n",
       " 70,\n",
       " 24,\n",
       " 60,\n",
       " 10,\n",
       " 20,\n",
       " 55,\n",
       " 20,\n",
       " 30,\n",
       " 16,\n",
       " 18,\n",
       " 60,\n",
       " 60,\n",
       " 12,\n",
       " 60,\n",
       " 60,\n",
       " 80,\n",
       " 20,\n",
       " 60,\n",
       " 15,\n",
       " 15,\n",
       " 70,\n",
       " 30,\n",
       " 90,\n",
       " 16,\n",
       " 72,\n",
       " 32,\n",
       " 30,\n",
       " 60,\n",
       " 55,\n",
       " 60,\n",
       " 60,\n",
       " 70,\n",
       " 10,\n",
       " 20,\n",
       " 20,\n",
       " 20,\n",
       " 30,\n",
       " 10,\n",
       " 60,\n",
       " 56,\n",
       " 84,\n",
       " 30,\n",
       " 55,\n",
       " 10,\n",
       " 24,\n",
       " 30,\n",
       " 30,\n",
       " 60,\n",
       " 8,\n",
       " 24,\n",
       " 54,\n",
       " 15,\n",
       " 20,\n",
       " 25,\n",
       " 65,\n",
       " 10,\n",
       " 60,\n",
       " 99,\n",
       " 15,\n",
       " 16,\n",
       " 55,\n",
       " 55,\n",
       " 60,\n",
       " 70,\n",
       " 18,\n",
       " 55,\n",
       " 80,\n",
       " 25,\n",
       " 60,\n",
       " 25,\n",
       " 6,\n",
       " 20,\n",
       " 30,\n",
       " 55,\n",
       " 20,\n",
       " 3,\n",
       " 70,\n",
       " 60,\n",
       " 55,\n",
       " 30,\n",
       " 70,\n",
       " 20,\n",
       " 80,\n",
       " 60,\n",
       " 10,\n",
       " 16,\n",
       " 60,\n",
       " 70,\n",
       " 10,\n",
       " 30,\n",
       " 20,\n",
       " 20,\n",
       " 30,\n",
       " 32,\n",
       " 30,\n",
       " 60,\n",
       " 17,\n",
       " 60,\n",
       " 16,\n",
       " 4,\n",
       " 55,\n",
       " 60,\n",
       " 10,\n",
       " 55,\n",
       " 30,\n",
       " 5,\n",
       " 53,\n",
       " 16,\n",
       " 15,\n",
       " 70,\n",
       " 60,\n",
       " 25,\n",
       " 28,\n",
       " 55,\n",
       " 30,\n",
       " 70,\n",
       " 65,\n",
       " 55,\n",
       " 17,\n",
       " 55,\n",
       " 8,\n",
       " 15,\n",
       " 30,\n",
       " 5,\n",
       " 75,\n",
       " 68,\n",
       " 65,\n",
       " 30,\n",
       " 18,\n",
       " 70,\n",
       " 60,\n",
       " 60,\n",
       " 12,\n",
       " 60,\n",
       " 30,\n",
       " 30,\n",
       " 8,\n",
       " 22,\n",
       " 55,\n",
       " 18,\n",
       " 55,\n",
       " 25,\n",
       " 60,\n",
       " 21,\n",
       " 10,\n",
       " 10,\n",
       " 70,\n",
       " 20,\n",
       " 27,\n",
       " 55,\n",
       " 25,\n",
       " 24,\n",
       " 15,\n",
       " 15,\n",
       " 20,\n",
       " 60,\n",
       " 60,\n",
       " 60,\n",
       " 20,\n",
       " 60,\n",
       " 60,\n",
       " 55,\n",
       " 20,\n",
       " 60,\n",
       " 90,\n",
       " 65,\n",
       " 20,\n",
       " 25,\n",
       " 25,\n",
       " 25,\n",
       " 60,\n",
       " 30,\n",
       " 30,\n",
       " 25,\n",
       " 3,\n",
       " 70,\n",
       " 60,\n",
       " 30,\n",
       " 10,\n",
       " 30,\n",
       " 65,\n",
       " 55,\n",
       " 54,\n",
       " 30,\n",
       " 25,\n",
       " 65,\n",
       " 25,\n",
       " 30,\n",
       " 60,\n",
       " 84,\n",
       " 25,\n",
       " 24,\n",
       " 20,\n",
       " 3,\n",
       " 25,\n",
       " 25,\n",
       " 30,\n",
       " 20,\n",
       " 8,\n",
       " 55,\n",
       " 54,\n",
       " 60,\n",
       " 30,\n",
       " 10,\n",
       " 5,\n",
       " 8,\n",
       " 20,\n",
       " 25,\n",
       " 60,\n",
       " 60,\n",
       " 55,\n",
       " 25,\n",
       " 6,\n",
       " 60,\n",
       " 60,\n",
       " 30,\n",
       " 56,\n",
       " 25,\n",
       " 25,\n",
       " 65,\n",
       " 8,\n",
       " 70,\n",
       " 60,\n",
       " 21,\n",
       " 15,\n",
       " 20,\n",
       " 20,\n",
       " 30,\n",
       " 13,\n",
       " 65,\n",
       " 30,\n",
       " 65,\n",
       " 25,\n",
       " 60,\n",
       " 20,\n",
       " 3,\n",
       " 24,\n",
       " 55,\n",
       " 27,\n",
       " 55,\n",
       " 25,\n",
       " 30,\n",
       " 20,\n",
       " 20,\n",
       " 60,\n",
       " 70,\n",
       " 60,\n",
       " 20,\n",
       " 60,\n",
       " 30,\n",
       " 15,\n",
       " 25,\n",
       " 55,\n",
       " 24,\n",
       " 60,\n",
       " 56,\n",
       " 70,\n",
       " 75,\n",
       " 25,\n",
       " 24,\n",
       " 28,\n",
       " 15,\n",
       " 58,\n",
       " 5,\n",
       " 70,\n",
       " 55,\n",
       " 15,\n",
       " 20,\n",
       " 25,\n",
       " 30,\n",
       " 20,\n",
       " 55,\n",
       " 20,\n",
       " 30,\n",
       " 32,\n",
       " 10,\n",
       " 55,\n",
       " 11,\n",
       " 20,\n",
       " 65,\n",
       " 60,\n",
       " 25,\n",
       " 84,\n",
       " 30,\n",
       " 55,\n",
       " 18,\n",
       " 60,\n",
       " 70,\n",
       " 60,\n",
       " 60,\n",
       " 30,\n",
       " 60,\n",
       " 55,\n",
       " 60,\n",
       " 25,\n",
       " 60,\n",
       " 20,\n",
       " 10,\n",
       " 30,\n",
       " 30,\n",
       " 20,\n",
       " 20,\n",
       " 24,\n",
       " 30,\n",
       " 30,\n",
       " 55,\n",
       " 60,\n",
       " 55,\n",
       " 60,\n",
       " 15,\n",
       " 60,\n",
       " 60,\n",
       " 20,\n",
       " 30,\n",
       " 58,\n",
       " 55,\n",
       " 25,\n",
       " 30,\n",
       " 60,\n",
       " 10,\n",
       " 16,\n",
       " 27,\n",
       " 30,\n",
       " 75,\n",
       " 8,\n",
       " 30,\n",
       " 60,\n",
       " 98,\n",
       " 60,\n",
       " 70,\n",
       " 5,\n",
       " 2,\n",
       " 25,\n",
       " 20,\n",
       " 16,\n",
       " 10,\n",
       " 55,\n",
       " 22,\n",
       " 30,\n",
       " 80,\n",
       " 10,\n",
       " 85,\n",
       " 20,\n",
       " 56,\n",
       " 30,\n",
       " 30,\n",
       " 30,\n",
       " 25,\n",
       " 60,\n",
       " 30,\n",
       " 32,\n",
       " 30,\n",
       " 8,\n",
       " 60,\n",
       " 25,\n",
       " 30,\n",
       " 60,\n",
       " 65,\n",
       " 32,\n",
       " 60,\n",
       " 75,\n",
       " 25,\n",
       " 60,\n",
       " 60,\n",
       " 6,\n",
       " 55,\n",
       " 60,\n",
       " 9,\n",
       " 15,\n",
       " 56,\n",
       " 30,\n",
       " 30,\n",
       " 55,\n",
       " 56,\n",
       " 60,\n",
       " 20,\n",
       " 15,\n",
       " 30,\n",
       " 30,\n",
       " 60,\n",
       " 15,\n",
       " 60,\n",
       " 30,\n",
       " 10,\n",
       " 56,\n",
       " 25,\n",
       " 84,\n",
       " 70,\n",
       " 65,\n",
       " 20,\n",
       " 20,\n",
       " 56,\n",
       " 30,\n",
       " 55,\n",
       " 60,\n",
       " 20,\n",
       " 55,\n",
       " 30,\n",
       " 65,\n",
       " 15,\n",
       " 25,\n",
       " 70,\n",
       " 60,\n",
       " 60,\n",
       " 60,\n",
       " 30,\n",
       " 60,\n",
       " 60,\n",
       " 30,\n",
       " 65,\n",
       " 18,\n",
       " 55,\n",
       " 17,\n",
       " 55,\n",
       " 60,\n",
       " 70,\n",
       " 65,\n",
       " 80,\n",
       " 25,\n",
       " 55,\n",
       " 20,\n",
       " 55,\n",
       " 60,\n",
       " 30,\n",
       " 10,\n",
       " 25,\n",
       " 20,\n",
       " 25,\n",
       " 72,\n",
       " 2,\n",
       " 60,\n",
       " 28,\n",
       " 3,\n",
       " 30,\n",
       " 55,\n",
       " 30,\n",
       " 60,\n",
       " 54,\n",
       " 16,\n",
       " 60,\n",
       " 62,\n",
       " 84,\n",
       " 26,\n",
       " 25,\n",
       " 20,\n",
       " 32,\n",
       " 25,\n",
       " 70,\n",
       " 60,\n",
       " 54,\n",
       " 60,\n",
       " 20,\n",
       " 60,\n",
       " 30,\n",
       " 60,\n",
       " 18,\n",
       " 30,\n",
       " 60,\n",
       " 25,\n",
       " 32,\n",
       " 20,\n",
       " 59,\n",
       " 60,\n",
       " 15,\n",
       " 32,\n",
       " 55,\n",
       " 12,\n",
       " 20,\n",
       " 25,\n",
       " 20,\n",
       " 55,\n",
       " 20,\n",
       " 55,\n",
       " 20,\n",
       " 60,\n",
       " 20,\n",
       " 30,\n",
       " 16,\n",
       " 15,\n",
       " 60,\n",
       " 65,\n",
       " 20,\n",
       " 55,\n",
       " 24,\n",
       " 28,\n",
       " 25,\n",
       " 60,\n",
       " 16,\n",
       " 60,\n",
       " 20,\n",
       " 16,\n",
       " 60,\n",
       " 32,\n",
       " 55,\n",
       " 12,\n",
       " 60,\n",
       " 20,\n",
       " 99,\n",
       " 25,\n",
       " 65,\n",
       " 32,\n",
       " 12,\n",
       " 32,\n",
       " 30,\n",
       " 20,\n",
       " 20,\n",
       " 25,\n",
       " 20,\n",
       " 16,\n",
       " 20,\n",
       " 15,\n",
       " 27,\n",
       " 56,\n",
       " 27,\n",
       " 60,\n",
       " 60,\n",
       " 20,\n",
       " 12,\n",
       " 32,\n",
       " 60,\n",
       " 60,\n",
       " 30,\n",
       " 60,\n",
       " 60,\n",
       " 75,\n",
       " 30,\n",
       " 60,\n",
       " 20,\n",
       " 30,\n",
       " 30,\n",
       " 5,\n",
       " 30,\n",
       " 60,\n",
       " 20,\n",
       " 20,\n",
       " 22,\n",
       " 55,\n",
       " 60,\n",
       " 5,\n",
       " 28,\n",
       " 30,\n",
       " 8,\n",
       " 30,\n",
       " 30,\n",
       " 30,\n",
       " 30,\n",
       " 80,\n",
       " 20,\n",
       " 30,\n",
       " 55,\n",
       " 30,\n",
       " 30,\n",
       " 30,\n",
       " 20,\n",
       " 56,\n",
       " 3,\n",
       " ...]"
      ]
     },
     "execution_count": 46,
     "metadata": {},
     "output_type": "execute_result"
    }
   ],
   "source": [
    "outlier=[]\n",
    "for x in data['hours-per-week']:\n",
    "    if((x>up_lim) or (x<low_lim)):\n",
    "        outlier.append(x)\n",
    "outlier "
   ]
  },
  {
   "cell_type": "code",
   "execution_count": 47,
   "metadata": {},
   "outputs": [
    {
     "data": {
      "text/plain": [
       "Int64Index([   10,    20,    27,    28,    52,    53,    54,    64,    72,\n",
       "               96,\n",
       "            ...\n",
       "            32495, 32500, 32506, 32520, 32523, 32530, 32531, 32532, 32536,\n",
       "            32548],\n",
       "           dtype='int64', length=3398)"
      ]
     },
     "execution_count": 47,
     "metadata": {},
     "output_type": "execute_result"
    }
   ],
   "source": [
    "ind1=data['hours-per-week']>up_lim\n",
    "data.loc[ind1].index"
   ]
  },
  {
   "cell_type": "code",
   "execution_count": 48,
   "metadata": {},
   "outputs": [
    {
     "name": "stderr",
     "output_type": "stream",
     "text": [
      "C:\\Users\\HP\\anaconda3\\lib\\site-packages\\pandas\\core\\frame.py:3990: SettingWithCopyWarning: \n",
      "A value is trying to be set on a copy of a slice from a DataFrame\n",
      "\n",
      "See the caveats in the documentation: https://pandas.pydata.org/pandas-docs/stable/user_guide/indexing.html#returning-a-view-versus-a-copy\n",
      "  return super().drop(\n"
     ]
    }
   ],
   "source": [
    "data.drop(data.loc[ind1].index,inplace=True)"
   ]
  },
  {
   "cell_type": "code",
   "execution_count": 49,
   "metadata": {},
   "outputs": [
    {
     "data": {
      "text/plain": [
       "Text(0.5, 1.0, 'Boxplot of hours-per-week')"
      ]
     },
     "execution_count": 49,
     "metadata": {},
     "output_type": "execute_result"
    },
    {
     "data": {
      "image/png": "[encoded data removed]",
      "text/plain": [
       "<Figure size 432x288 with 1 Axes>"
      ]
     },
     "metadata": {
      "needs_background": "light"
     },
     "output_type": "display_data"
    }
   ],
   "source": [
    "plt.boxplot(data['hours-per-week'])\n",
    "plt.title(\"Boxplot of hours-per-week\")"
   ]
  },
  {
   "cell_type": "code",
   "execution_count": 50,
   "metadata": {},
   "outputs": [
    {
     "data": {
      "text/plain": [
       "(25557, 14)"
      ]
     },
     "execution_count": 50,
     "metadata": {},
     "output_type": "execute_result"
    }
   ],
   "source": [
    "data.shape"
   ]
  },
  {
   "cell_type": "markdown",
   "metadata": {},
   "source": [
    "# Feature Engineering"
   ]
  },
  {
   "cell_type": "code",
   "execution_count": 51,
   "metadata": {},
   "outputs": [
    {
     "data": {
      "text/plain": [
       "Index(['age', 'workclass', 'education', 'education-num', 'marital-status',\n",
       "       'occupation', 'relationship', 'race', 'sex', 'capital-gain',\n",
       "       'capital-loss', 'hours-per-week', 'native-country', 'salary'],\n",
       "      dtype='object')"
      ]
     },
     "execution_count": 51,
     "metadata": {},
     "output_type": "execute_result"
    }
   ],
   "source": [
    "data.columns"
   ]
  },
  {
   "cell_type": "code",
   "execution_count": 52,
   "metadata": {},
   "outputs": [
    {
     "name": "stdout",
     "output_type": "stream",
     "text": [
      "workclass 9\n",
      "education ['Bachelors' 'HS-grad' '11th' 'Masters' '9th' 'Assoc-acdm' 'Assoc-voc'\n",
      " '7th-8th' 'Some-college' '5th-6th' 'Doctorate' '10th' 'Prof-school'\n",
      " '1st-4th' 'Preschool' '12th']\n",
      "marital-status ['Never-married' 'Married-civ-spouse' 'Divorced' 'Married-spouse-absent'\n",
      " 'Separated' 'Married-AF-spouse' 'Widowed']\n",
      "occupation ['Adm-clerical' 'Exec-managerial' 'Handlers-cleaners' 'Prof-specialty'\n",
      " 'Other-service' 'Sales' 'Craft-repair' 'Transport-moving'\n",
      " 'Farming-fishing' 'Machine-op-inspct' 'Tech-support' 'Protective-serv'\n",
      " 'Armed-Forces' 'Priv-house-serv']\n",
      "relationship ['Not-in-family' 'Husband' 'Wife' 'Own-child' 'Unmarried' 'Other-relative']\n",
      "race ['White' 'Black' 'Asian-Pac-Islander' 'Amer-Indian-Eskimo' 'Other']\n",
      "gender ['Male' 'Female']\n",
      "native-country ['United-States' 'Cuba' 'Jamaica' 'India' 'Mexico' 'Puerto-Rico' 'England'\n",
      " 'Canada' 'Germany' 'Iran' 'Philippines' 'Italy' 'Poland' 'Columbia'\n",
      " 'Cambodia' 'Ecuador' 'Laos' 'Taiwan' 'Haiti' 'Portugal' 'El-Salvador'\n",
      " 'France' 'South' 'Dominican-Republic' 'Honduras' 'Guatemala' 'China'\n",
      " 'Japan' 'Yugoslavia' 'Peru' 'Outlying-US(Guam-USVI-etc)' 'Scotland'\n",
      " 'Trinadad&Tobago' 'Greece' 'Nicaragua' 'Vietnam' 'Hong' 'Ireland'\n",
      " 'Thailand' 'Hungary' 'Holand-Netherlands']\n"
     ]
    }
   ],
   "source": [
    "print('workclass',data.workclass.nunique())\n",
    "print('education',data.education.unique())\n",
    "print('marital-status',data['marital-status'].unique())\n",
    "print('occupation',data.occupation.unique())\n",
    "print('relationship',data.relationship.unique())\n",
    "print('race',data.race.unique())\n",
    "print('gender',data.sex.unique())\n",
    "print('native-country',data['native-country'].unique())\n"
   ]
  },
  {
   "cell_type": "code",
   "execution_count": 53,
   "metadata": {},
   "outputs": [
    {
     "name": "stderr",
     "output_type": "stream",
     "text": [
      "C:\\Users\\HP\\anaconda3\\lib\\site-packages\\pandas\\core\\generic.py:6746: SettingWithCopyWarning: \n",
      "A value is trying to be set on a copy of a slice from a DataFrame\n",
      "\n",
      "See the caveats in the documentation: https://pandas.pydata.org/pandas-docs/stable/user_guide/indexing.html#returning-a-view-versus-a-copy\n",
      "  self._update_inplace(new_data)\n"
     ]
    }
   ],
   "source": [
    "data['education'].replace('Preschool', 'dropout',inplace=True)\n",
    "data['education'].replace('10th', 'HS',inplace=True)\n",
    "data['education'].replace('11th', 'Higher Secondary',inplace=True)\n",
    "data['education'].replace('12th', 'Higher Secondary',inplace=True)\n",
    "data['education'].replace('1st-4th', 'LP',inplace=True)\n",
    "data['education'].replace('5th-6th', 'UP',inplace=True)\n",
    "data['education'].replace('7th-8th', 'HS',inplace=True)\n",
    "data['education'].replace('9th', 'HS',inplace=True)"
   ]
  },
  {
   "cell_type": "code",
   "execution_count": 54,
   "metadata": {},
   "outputs": [],
   "source": [
    "data['marital-status'].replace('Never-married', 'Single',inplace=True)\n",
    "data['marital-status'].replace(['Married-AF-spouse'], 'Married',inplace=True)\n",
    "data['marital-status'].replace(['Married-civ-spouse'], 'Married',inplace=True)\n",
    "data['marital-status'].replace(['Married-spouse-absent'], 'NotMarried',inplace=True)"
   ]
  },
  {
   "cell_type": "markdown",
   "metadata": {},
   "source": [
    "# Label encoding"
   ]
  },
  {
   "cell_type": "code",
   "execution_count": 55,
   "metadata": {},
   "outputs": [
    {
     "data": {
      "text/plain": [
       "age                int64\n",
       "workclass         object\n",
       "education         object\n",
       "education-num      int64\n",
       "marital-status    object\n",
       "occupation        object\n",
       "relationship      object\n",
       "race              object\n",
       "sex               object\n",
       "capital-gain       int64\n",
       "capital-loss       int64\n",
       "hours-per-week     int64\n",
       "native-country    object\n",
       "salary            object\n",
       "dtype: object"
      ]
     },
     "execution_count": 55,
     "metadata": {},
     "output_type": "execute_result"
    }
   ],
   "source": [
    "data.dtypes"
   ]
  },
  {
   "cell_type": "code",
   "execution_count": 56,
   "metadata": {},
   "outputs": [
    {
     "name": "stderr",
     "output_type": "stream",
     "text": [
      "<ipython-input-56-a536d68c317b>:5: SettingWithCopyWarning: \n",
      "A value is trying to be set on a copy of a slice from a DataFrame.\n",
      "Try using .loc[row_indexer,col_indexer] = value instead\n",
      "\n",
      "See the caveats in the documentation: https://pandas.pydata.org/pandas-docs/stable/user_guide/indexing.html#returning-a-view-versus-a-copy\n",
      "  data[i]=label_encoder.fit_transform(data[i])\n"
     ]
    }
   ],
   "source": [
    "from sklearn import preprocessing\n",
    "label_encoder=preprocessing.LabelEncoder()\n",
    "for i in ['workclass', 'education', 'marital-status', 'occupation',\n",
    "       'relationship',\"race\",'sex','native-country']:\n",
    "    data[i]=label_encoder.fit_transform(data[i])"
   ]
  },
  {
   "cell_type": "code",
   "execution_count": 57,
   "metadata": {},
   "outputs": [
    {
     "data": {
      "text/html": [
       "<div>\n",
       "<style scoped>\n",
       "    .dataframe tbody tr th:only-of-type {\n",
       "        vertical-align: middle;\n",
       "    }\n",
       "\n",
       "    .dataframe tbody tr th {\n",
       "        vertical-align: top;\n",
       "    }\n",
       "\n",
       "    .dataframe thead th {\n",
       "        text-align: right;\n",
       "    }\n",
       "</style>\n",
       "<table border=\"1\" class=\"dataframe\">\n",
       "  <thead>\n",
       "    <tr style=\"text-align: right;\">\n",
       "      <th></th>\n",
       "      <th>age</th>\n",
       "      <th>workclass</th>\n",
       "      <th>education</th>\n",
       "      <th>education-num</th>\n",
       "      <th>marital-status</th>\n",
       "      <th>occupation</th>\n",
       "      <th>relationship</th>\n",
       "      <th>race</th>\n",
       "      <th>sex</th>\n",
       "      <th>capital-gain</th>\n",
       "      <th>capital-loss</th>\n",
       "      <th>hours-per-week</th>\n",
       "      <th>native-country</th>\n",
       "      <th>salary</th>\n",
       "    </tr>\n",
       "  </thead>\n",
       "  <tbody>\n",
       "    <tr>\n",
       "      <th>0</th>\n",
       "      <td>39</td>\n",
       "      <td>7</td>\n",
       "      <td>2</td>\n",
       "      <td>13</td>\n",
       "      <td>4</td>\n",
       "      <td>0</td>\n",
       "      <td>1</td>\n",
       "      <td>4</td>\n",
       "      <td>1</td>\n",
       "      <td>2174</td>\n",
       "      <td>0</td>\n",
       "      <td>40</td>\n",
       "      <td>38</td>\n",
       "      <td>&lt;=50K</td>\n",
       "    </tr>\n",
       "    <tr>\n",
       "      <th>1</th>\n",
       "      <td>50</td>\n",
       "      <td>6</td>\n",
       "      <td>2</td>\n",
       "      <td>13</td>\n",
       "      <td>1</td>\n",
       "      <td>3</td>\n",
       "      <td>0</td>\n",
       "      <td>4</td>\n",
       "      <td>1</td>\n",
       "      <td>0</td>\n",
       "      <td>0</td>\n",
       "      <td>13</td>\n",
       "      <td>38</td>\n",
       "      <td>&lt;=50K</td>\n",
       "    </tr>\n",
       "    <tr>\n",
       "      <th>2</th>\n",
       "      <td>38</td>\n",
       "      <td>3</td>\n",
       "      <td>5</td>\n",
       "      <td>9</td>\n",
       "      <td>0</td>\n",
       "      <td>5</td>\n",
       "      <td>1</td>\n",
       "      <td>4</td>\n",
       "      <td>1</td>\n",
       "      <td>0</td>\n",
       "      <td>0</td>\n",
       "      <td>40</td>\n",
       "      <td>38</td>\n",
       "      <td>&lt;=50K</td>\n",
       "    </tr>\n",
       "    <tr>\n",
       "      <th>3</th>\n",
       "      <td>53</td>\n",
       "      <td>3</td>\n",
       "      <td>6</td>\n",
       "      <td>7</td>\n",
       "      <td>1</td>\n",
       "      <td>5</td>\n",
       "      <td>0</td>\n",
       "      <td>2</td>\n",
       "      <td>1</td>\n",
       "      <td>0</td>\n",
       "      <td>0</td>\n",
       "      <td>40</td>\n",
       "      <td>38</td>\n",
       "      <td>&lt;=50K</td>\n",
       "    </tr>\n",
       "    <tr>\n",
       "      <th>4</th>\n",
       "      <td>28</td>\n",
       "      <td>3</td>\n",
       "      <td>2</td>\n",
       "      <td>13</td>\n",
       "      <td>1</td>\n",
       "      <td>9</td>\n",
       "      <td>5</td>\n",
       "      <td>2</td>\n",
       "      <td>0</td>\n",
       "      <td>0</td>\n",
       "      <td>0</td>\n",
       "      <td>40</td>\n",
       "      <td>4</td>\n",
       "      <td>&lt;=50K</td>\n",
       "    </tr>\n",
       "  </tbody>\n",
       "</table>\n",
       "</div>"
      ],
      "text/plain": [
       "   age  workclass  education  education-num  marital-status  occupation  \\\n",
       "0   39          7          2             13               4           0   \n",
       "1   50          6          2             13               1           3   \n",
       "2   38          3          5              9               0           5   \n",
       "3   53          3          6              7               1           5   \n",
       "4   28          3          2             13               1           9   \n",
       "\n",
       "   relationship  race  sex  capital-gain  capital-loss  hours-per-week  \\\n",
       "0             1     4    1          2174             0              40   \n",
       "1             0     4    1             0             0              13   \n",
       "2             1     4    1             0             0              40   \n",
       "3             0     2    1             0             0              40   \n",
       "4             5     2    0             0             0              40   \n",
       "\n",
       "   native-country salary  \n",
       "0              38  <=50K  \n",
       "1              38  <=50K  \n",
       "2              38  <=50K  \n",
       "3              38  <=50K  \n",
       "4               4  <=50K  "
      ]
     },
     "execution_count": 57,
     "metadata": {},
     "output_type": "execute_result"
    }
   ],
   "source": [
    "data.head()"
   ]
  },
  {
   "cell_type": "markdown",
   "metadata": {},
   "source": [
    "# splitting the dataset"
   ]
  },
  {
   "cell_type": "code",
   "execution_count": 58,
   "metadata": {},
   "outputs": [],
   "source": [
    "y=data['salary']\n",
    "x=data.drop('salary',axis=1) "
   ]
  },
  {
   "cell_type": "code",
   "execution_count": 59,
   "metadata": {},
   "outputs": [],
   "source": [
    "from sklearn.model_selection import train_test_split\n",
    "x_train, x_test, y_train, y_test = train_test_split(x, y, random_state = 100, test_size = 0.2)"
   ]
  },
  {
   "cell_type": "markdown",
   "metadata": {},
   "source": [
    "# Standard Scaling"
   ]
  },
  {
   "cell_type": "code",
   "execution_count": 60,
   "metadata": {},
   "outputs": [
    {
     "data": {
      "text/html": [
       "<div>\n",
       "<style scoped>\n",
       "    .dataframe tbody tr th:only-of-type {\n",
       "        vertical-align: middle;\n",
       "    }\n",
       "\n",
       "    .dataframe tbody tr th {\n",
       "        vertical-align: top;\n",
       "    }\n",
       "\n",
       "    .dataframe thead th {\n",
       "        text-align: right;\n",
       "    }\n",
       "</style>\n",
       "<table border=\"1\" class=\"dataframe\">\n",
       "  <thead>\n",
       "    <tr style=\"text-align: right;\">\n",
       "      <th></th>\n",
       "      <th>age</th>\n",
       "      <th>workclass</th>\n",
       "      <th>education</th>\n",
       "      <th>education-num</th>\n",
       "      <th>marital-status</th>\n",
       "      <th>occupation</th>\n",
       "      <th>relationship</th>\n",
       "      <th>race</th>\n",
       "      <th>sex</th>\n",
       "      <th>capital-gain</th>\n",
       "      <th>capital-loss</th>\n",
       "      <th>hours-per-week</th>\n",
       "      <th>native-country</th>\n",
       "    </tr>\n",
       "  </thead>\n",
       "  <tbody>\n",
       "    <tr>\n",
       "      <th>count</th>\n",
       "      <td>25557.000000</td>\n",
       "      <td>25557.000000</td>\n",
       "      <td>25557.000000</td>\n",
       "      <td>25557.000000</td>\n",
       "      <td>25557.000000</td>\n",
       "      <td>25557.000000</td>\n",
       "      <td>25557.000000</td>\n",
       "      <td>25557.000000</td>\n",
       "      <td>25557.000000</td>\n",
       "      <td>25557.000000</td>\n",
       "      <td>25557.000000</td>\n",
       "      <td>25557.000000</td>\n",
       "      <td>25557.000000</td>\n",
       "    </tr>\n",
       "    <tr>\n",
       "      <th>mean</th>\n",
       "      <td>38.852213</td>\n",
       "      <td>3.272332</td>\n",
       "      <td>5.540556</td>\n",
       "      <td>10.008060</td>\n",
       "      <td>2.074852</td>\n",
       "      <td>6.158587</td>\n",
       "      <td>1.563094</td>\n",
       "      <td>3.613061</td>\n",
       "      <td>0.636812</td>\n",
       "      <td>991.368510</td>\n",
       "      <td>91.290762</td>\n",
       "      <td>37.676253</td>\n",
       "      <td>36.186368</td>\n",
       "    </tr>\n",
       "    <tr>\n",
       "      <th>std</th>\n",
       "      <td>13.620727</td>\n",
       "      <td>1.444120</td>\n",
       "      <td>3.132584</td>\n",
       "      <td>2.616665</td>\n",
       "      <td>1.643723</td>\n",
       "      <td>3.969373</td>\n",
       "      <td>1.640669</td>\n",
       "      <td>0.900048</td>\n",
       "      <td>0.480928</td>\n",
       "      <td>6697.724275</td>\n",
       "      <td>409.467081</td>\n",
       "      <td>9.563733</td>\n",
       "      <td>6.453942</td>\n",
       "    </tr>\n",
       "    <tr>\n",
       "      <th>min</th>\n",
       "      <td>17.000000</td>\n",
       "      <td>0.000000</td>\n",
       "      <td>0.000000</td>\n",
       "      <td>1.000000</td>\n",
       "      <td>0.000000</td>\n",
       "      <td>0.000000</td>\n",
       "      <td>0.000000</td>\n",
       "      <td>0.000000</td>\n",
       "      <td>0.000000</td>\n",
       "      <td>0.000000</td>\n",
       "      <td>0.000000</td>\n",
       "      <td>1.000000</td>\n",
       "      <td>0.000000</td>\n",
       "    </tr>\n",
       "    <tr>\n",
       "      <th>25%</th>\n",
       "      <td>28.000000</td>\n",
       "      <td>3.000000</td>\n",
       "      <td>3.000000</td>\n",
       "      <td>9.000000</td>\n",
       "      <td>1.000000</td>\n",
       "      <td>3.000000</td>\n",
       "      <td>0.000000</td>\n",
       "      <td>4.000000</td>\n",
       "      <td>0.000000</td>\n",
       "      <td>0.000000</td>\n",
       "      <td>0.000000</td>\n",
       "      <td>36.000000</td>\n",
       "      <td>38.000000</td>\n",
       "    </tr>\n",
       "    <tr>\n",
       "      <th>50%</th>\n",
       "      <td>37.000000</td>\n",
       "      <td>3.000000</td>\n",
       "      <td>5.000000</td>\n",
       "      <td>10.000000</td>\n",
       "      <td>1.000000</td>\n",
       "      <td>7.000000</td>\n",
       "      <td>1.000000</td>\n",
       "      <td>4.000000</td>\n",
       "      <td>1.000000</td>\n",
       "      <td>0.000000</td>\n",
       "      <td>0.000000</td>\n",
       "      <td>40.000000</td>\n",
       "      <td>38.000000</td>\n",
       "    </tr>\n",
       "    <tr>\n",
       "      <th>75%</th>\n",
       "      <td>48.000000</td>\n",
       "      <td>3.000000</td>\n",
       "      <td>9.000000</td>\n",
       "      <td>12.000000</td>\n",
       "      <td>4.000000</td>\n",
       "      <td>9.000000</td>\n",
       "      <td>3.000000</td>\n",
       "      <td>4.000000</td>\n",
       "      <td>1.000000</td>\n",
       "      <td>0.000000</td>\n",
       "      <td>0.000000</td>\n",
       "      <td>40.000000</td>\n",
       "      <td>38.000000</td>\n",
       "    </tr>\n",
       "    <tr>\n",
       "      <th>max</th>\n",
       "      <td>78.000000</td>\n",
       "      <td>8.000000</td>\n",
       "      <td>12.000000</td>\n",
       "      <td>16.000000</td>\n",
       "      <td>5.000000</td>\n",
       "      <td>13.000000</td>\n",
       "      <td>5.000000</td>\n",
       "      <td>4.000000</td>\n",
       "      <td>1.000000</td>\n",
       "      <td>99999.000000</td>\n",
       "      <td>4356.000000</td>\n",
       "      <td>52.000000</td>\n",
       "      <td>40.000000</td>\n",
       "    </tr>\n",
       "  </tbody>\n",
       "</table>\n",
       "</div>"
      ],
      "text/plain": [
       "                age     workclass     education  education-num  \\\n",
       "count  25557.000000  25557.000000  25557.000000   25557.000000   \n",
       "mean      38.852213      3.272332      5.540556      10.008060   \n",
       "std       13.620727      1.444120      3.132584       2.616665   \n",
       "min       17.000000      0.000000      0.000000       1.000000   \n",
       "25%       28.000000      3.000000      3.000000       9.000000   \n",
       "50%       37.000000      3.000000      5.000000      10.000000   \n",
       "75%       48.000000      3.000000      9.000000      12.000000   \n",
       "max       78.000000      8.000000     12.000000      16.000000   \n",
       "\n",
       "       marital-status    occupation  relationship          race           sex  \\\n",
       "count    25557.000000  25557.000000  25557.000000  25557.000000  25557.000000   \n",
       "mean         2.074852      6.158587      1.563094      3.613061      0.636812   \n",
       "std          1.643723      3.969373      1.640669      0.900048      0.480928   \n",
       "min          0.000000      0.000000      0.000000      0.000000      0.000000   \n",
       "25%          1.000000      3.000000      0.000000      4.000000      0.000000   \n",
       "50%          1.000000      7.000000      1.000000      4.000000      1.000000   \n",
       "75%          4.000000      9.000000      3.000000      4.000000      1.000000   \n",
       "max          5.000000     13.000000      5.000000      4.000000      1.000000   \n",
       "\n",
       "       capital-gain  capital-loss  hours-per-week  native-country  \n",
       "count  25557.000000  25557.000000    25557.000000    25557.000000  \n",
       "mean     991.368510     91.290762       37.676253       36.186368  \n",
       "std     6697.724275    409.467081        9.563733        6.453942  \n",
       "min        0.000000      0.000000        1.000000        0.000000  \n",
       "25%        0.000000      0.000000       36.000000       38.000000  \n",
       "50%        0.000000      0.000000       40.000000       38.000000  \n",
       "75%        0.000000      0.000000       40.000000       38.000000  \n",
       "max    99999.000000   4356.000000       52.000000       40.000000  "
      ]
     },
     "execution_count": 60,
     "metadata": {},
     "output_type": "execute_result"
    }
   ],
   "source": [
    "x.describe()"
   ]
  },
  {
   "cell_type": "code",
   "execution_count": 61,
   "metadata": {},
   "outputs": [],
   "source": [
    "from sklearn.preprocessing import StandardScaler\n",
    "sc=StandardScaler()\n",
    "x_train=sc.fit_transform(x_train)\n",
    "x_test=sc.fit_transform(x_test)"
   ]
  },
  {
   "cell_type": "markdown",
   "metadata": {},
   "source": [
    "# Logistic Regression"
   ]
  },
  {
   "cell_type": "code",
   "execution_count": 62,
   "metadata": {},
   "outputs": [],
   "source": [
    "from sklearn.linear_model import LogisticRegression\n",
    "logit_model=LogisticRegression()\n",
    "logit_model.fit(x_train,y_train)\n",
    "y.predict=logit_model.predict(x_test)\n"
   ]
  },
  {
   "cell_type": "code",
   "execution_count": 63,
   "metadata": {},
   "outputs": [
    {
     "name": "stdout",
     "output_type": "stream",
     "text": [
      "Accuracy is 0.8347026604068858\n",
      "F1 score is 0.8347026604068858\n"
     ]
    },
    {
     "name": "stderr",
     "output_type": "stream",
     "text": [
      "C:\\Users\\HP\\anaconda3\\lib\\site-packages\\sklearn\\metrics\\_classification.py:1267: UserWarning: Note that pos_label (set to 'positive') is ignored when average != 'binary' (got 'micro'). You may use labels=[pos_label] to specify a single positive class.\n",
      "  warnings.warn(\"Note that pos_label (set to %r) is ignored when \"\n"
     ]
    },
    {
     "name": "stdout",
     "output_type": "stream",
     "text": [
      "\n",
      "The Classification report is\n",
      "               precision    recall  f1-score   support\n",
      "\n",
      "       <=50K       0.86      0.94      0.90      3979\n",
      "        >50K       0.70      0.45      0.55      1133\n",
      "\n",
      "    accuracy                           0.83      5112\n",
      "   macro avg       0.78      0.70      0.72      5112\n",
      "weighted avg       0.82      0.83      0.82      5112\n",
      "\n"
     ]
    }
   ],
   "source": [
    "from sklearn.metrics import confusion_matrix,accuracy_score,precision_score,recall_score,f1_score,classification_report\n",
    "print('Accuracy is', accuracy_score(y_test,y.predict))\n",
    "print('F1 score is', f1_score(y_test,y.predict,pos_label='positive', average='micro'))\n",
    "\n",
    "print(\"\\nThe Classification report is\\n\", classification_report(y_test,y.predict))"
   ]
  },
  {
   "cell_type": "code",
   "execution_count": 64,
   "metadata": {},
   "outputs": [
    {
     "data": {
      "text/plain": [
       "array([[3757,  222],\n",
       "       [ 623,  510]], dtype=int64)"
      ]
     },
     "execution_count": 64,
     "metadata": {},
     "output_type": "execute_result"
    }
   ],
   "source": [
    "confusion_matrix(y_test,y.predict)"
   ]
  },
  {
   "cell_type": "markdown",
   "metadata": {},
   "source": [
    "# KNN"
   ]
  },
  {
   "cell_type": "code",
   "execution_count": 65,
   "metadata": {},
   "outputs": [],
   "source": [
    "from sklearn.neighbors import KNeighborsClassifier\n",
    "acc_values=[]\n",
    "neighbors=np.arange(3,15)\n",
    "for k in neighbors:\n",
    "    classifier=KNeighborsClassifier(n_neighbors=k, metric='minkowski')\n",
    "    classifier.fit(x_train,y_train)\n",
    "    y.pred=classifier.predict(x_test)\n",
    "    acc=accuracy_score(y_test,y.pred)\n",
    "    acc_values.append(acc)"
   ]
  },
  {
   "cell_type": "code",
   "execution_count": 66,
   "metadata": {},
   "outputs": [
    {
     "data": {
      "text/plain": [
       "[0.8221830985915493,\n",
       " 0.8305946791862285,\n",
       " 0.829225352112676,\n",
       " 0.8368544600938967,\n",
       " 0.835093896713615,\n",
       " 0.8374413145539906,\n",
       " 0.838810641627543,\n",
       " 0.8384194053208138,\n",
       " 0.8390062597809077,\n",
       " 0.8384194053208138,\n",
       " 0.8384194053208138,\n",
       " 0.8364632237871674]"
      ]
     },
     "execution_count": 66,
     "metadata": {},
     "output_type": "execute_result"
    }
   ],
   "source": [
    "acc_values"
   ]
  },
  {
   "cell_type": "code",
   "execution_count": 67,
   "metadata": {},
   "outputs": [
    {
     "data": {
      "text/plain": [
       "Text(0, 0.5, 'Accuracy')"
      ]
     },
     "execution_count": 67,
     "metadata": {},
     "output_type": "execute_result"
    },
    {
     "data": {
      "image/png": "[encoded data removed]",
      "text/plain": [
       "<Figure size 432x288 with 1 Axes>"
      ]
     },
     "metadata": {
      "needs_background": "light"
     },
     "output_type": "display_data"
    }
   ],
   "source": [
    "plt.plot(neighbors,acc_values,'o-')\n",
    "plt.xlabel('K value')\n",
    "plt.ylabel('Accuracy')"
   ]
  },
  {
   "cell_type": "code",
   "execution_count": 68,
   "metadata": {},
   "outputs": [],
   "source": [
    "classifier=KNeighborsClassifier(n_neighbors=10, metric='minkowski')\n",
    "classifier.fit(x_train,y_train)\n",
    "y.predict=classifier.predict(x_test)"
   ]
  },
  {
   "cell_type": "code",
   "execution_count": 69,
   "metadata": {},
   "outputs": [
    {
     "name": "stdout",
     "output_type": "stream",
     "text": [
      "Accuracy is 0.8384194053208138\n",
      "F1 score is 0.8384194053208138\n"
     ]
    },
    {
     "name": "stderr",
     "output_type": "stream",
     "text": [
      "C:\\Users\\HP\\anaconda3\\lib\\site-packages\\sklearn\\metrics\\_classification.py:1267: UserWarning: Note that pos_label (set to 'positive') is ignored when average != 'binary' (got 'micro'). You may use labels=[pos_label] to specify a single positive class.\n",
      "  warnings.warn(\"Note that pos_label (set to %r) is ignored when \"\n"
     ]
    },
    {
     "name": "stdout",
     "output_type": "stream",
     "text": [
      "\n",
      "The Classification report is\n",
      "               precision    recall  f1-score   support\n",
      "\n",
      "       <=50K       0.87      0.93      0.90      3979\n",
      "        >50K       0.69      0.50      0.58      1133\n",
      "\n",
      "    accuracy                           0.84      5112\n",
      "   macro avg       0.78      0.72      0.74      5112\n",
      "weighted avg       0.83      0.84      0.83      5112\n",
      "\n"
     ]
    }
   ],
   "source": [
    "print('Accuracy is', accuracy_score(y_test,y.predict))\n",
    "print('F1 score is', f1_score(y_test,y.predict,pos_label='positive', average='micro'))\n",
    "\n",
    "print(\"\\nThe Classification report is\\n\", classification_report(y_test,y.predict))"
   ]
  },
  {
   "cell_type": "code",
   "execution_count": 70,
   "metadata": {},
   "outputs": [
    {
     "data": {
      "text/plain": [
       "array([[3720,  259],\n",
       "       [ 567,  566]], dtype=int64)"
      ]
     },
     "execution_count": 70,
     "metadata": {},
     "output_type": "execute_result"
    }
   ],
   "source": [
    "confusion_matrix(y_test,y.predict)"
   ]
  },
  {
   "cell_type": "markdown",
   "metadata": {},
   "source": [
    "# Random Forest"
   ]
  },
  {
   "cell_type": "code",
   "execution_count": 71,
   "metadata": {},
   "outputs": [],
   "source": [
    "from sklearn.ensemble import RandomForestClassifier\n",
    "rf=RandomForestClassifier()\n",
    "rf.fit(x_train,y_train)\n",
    "y.predict=rf.predict(x_test)"
   ]
  },
  {
   "cell_type": "code",
   "execution_count": 72,
   "metadata": {},
   "outputs": [
    {
     "name": "stdout",
     "output_type": "stream",
     "text": [
      "Accuracy is 0.8407668231611893\n",
      "F1 score is 0.8407668231611893\n"
     ]
    },
    {
     "name": "stderr",
     "output_type": "stream",
     "text": [
      "C:\\Users\\HP\\anaconda3\\lib\\site-packages\\sklearn\\metrics\\_classification.py:1267: UserWarning: Note that pos_label (set to 'positive') is ignored when average != 'binary' (got 'micro'). You may use labels=[pos_label] to specify a single positive class.\n",
      "  warnings.warn(\"Note that pos_label (set to %r) is ignored when \"\n"
     ]
    },
    {
     "name": "stdout",
     "output_type": "stream",
     "text": [
      "\n",
      "The Classification report is\n",
      "               precision    recall  f1-score   support\n",
      "\n",
      "       <=50K       0.89      0.91      0.90      3979\n",
      "        >50K       0.66      0.59      0.62      1133\n",
      "\n",
      "    accuracy                           0.84      5112\n",
      "   macro avg       0.77      0.75      0.76      5112\n",
      "weighted avg       0.84      0.84      0.84      5112\n",
      "\n"
     ]
    }
   ],
   "source": [
    "print('Accuracy is', accuracy_score(y_test,y.predict))\n",
    "print('F1 score is', f1_score(y_test,y.predict,pos_label='positive', average='micro'))\n",
    "\n",
    "print(\"\\nThe Classification report is\\n\", classification_report(y_test,y.predict))"
   ]
  },
  {
   "cell_type": "code",
   "execution_count": 73,
   "metadata": {},
   "outputs": [
    {
     "data": {
      "text/plain": [
       "array([[3635,  344],\n",
       "       [ 470,  663]], dtype=int64)"
      ]
     },
     "execution_count": 73,
     "metadata": {},
     "output_type": "execute_result"
    }
   ],
   "source": [
    "confusion_matrix(y_test,y.predict)"
   ]
  },
  {
   "cell_type": "markdown",
   "metadata": {},
   "source": [
    "# Gradient Boosting"
   ]
  },
  {
   "cell_type": "code",
   "execution_count": 74,
   "metadata": {},
   "outputs": [],
   "source": [
    "from sklearn.ensemble import GradientBoostingClassifier\n",
    "gb=GradientBoostingClassifier()\n",
    "gb.fit(x_train,y_train)\n",
    "y.predict=gb.predict(x_test)"
   ]
  },
  {
   "cell_type": "code",
   "execution_count": 75,
   "metadata": {},
   "outputs": [
    {
     "name": "stdout",
     "output_type": "stream",
     "text": [
      "Accuracy is 0.866001564945227\n",
      "F1 score is 0.866001564945227\n"
     ]
    },
    {
     "name": "stderr",
     "output_type": "stream",
     "text": [
      "C:\\Users\\HP\\anaconda3\\lib\\site-packages\\sklearn\\metrics\\_classification.py:1267: UserWarning: Note that pos_label (set to 'positive') is ignored when average != 'binary' (got 'micro'). You may use labels=[pos_label] to specify a single positive class.\n",
      "  warnings.warn(\"Note that pos_label (set to %r) is ignored when \"\n"
     ]
    },
    {
     "name": "stdout",
     "output_type": "stream",
     "text": [
      "\n",
      "The Classification report is\n",
      "               precision    recall  f1-score   support\n",
      "\n",
      "       <=50K       0.88      0.95      0.92      3979\n",
      "        >50K       0.78      0.56      0.65      1133\n",
      "\n",
      "    accuracy                           0.87      5112\n",
      "   macro avg       0.83      0.76      0.78      5112\n",
      "weighted avg       0.86      0.87      0.86      5112\n",
      "\n"
     ]
    }
   ],
   "source": [
    "print('Accuracy is', accuracy_score(y_test,y.predict))\n",
    "print('F1 score is', f1_score(y_test,y.predict,pos_label='positive', average='micro'))\n",
    "\n",
    "print(\"\\nThe Classification report is\\n\", classification_report(y_test,y.predict))"
   ]
  },
  {
   "cell_type": "code",
   "execution_count": 76,
   "metadata": {},
   "outputs": [
    {
     "data": {
      "text/plain": [
       "array([[3797,  182],\n",
       "       [ 503,  630]], dtype=int64)"
      ]
     },
     "execution_count": 76,
     "metadata": {},
     "output_type": "execute_result"
    }
   ],
   "source": [
    "confusion_matrix(y_test,y.predict)"
   ]
  },
  {
   "cell_type": "markdown",
   "metadata": {},
   "source": [
    "# Hypertuning-Gradient Boosting\n"
   ]
  },
  {
   "cell_type": "code",
   "execution_count": 77,
   "metadata": {},
   "outputs": [],
   "source": [
    "from sklearn.ensemble import GradientBoostingClassifier\n",
    "gb=GradientBoostingClassifier(learning_rate=0.05, n_estimators=120,max_depth=9, min_samples_split=1200,min_samples_leaf=60, subsample=0.85, random_state=10, max_features=7)\n",
    "gb.fit(x_train,y_train.values.ravel())\n",
    "y.predict=gb.predict(x_test)"
   ]
  },
  {
   "cell_type": "code",
   "execution_count": 78,
   "metadata": {},
   "outputs": [
    {
     "name": "stdout",
     "output_type": "stream",
     "text": [
      "Accuracy is 0.8722613458528952\n",
      "F1 score is 0.8722613458528953\n"
     ]
    },
    {
     "name": "stderr",
     "output_type": "stream",
     "text": [
      "C:\\Users\\HP\\anaconda3\\lib\\site-packages\\sklearn\\metrics\\_classification.py:1267: UserWarning: Note that pos_label (set to 'positive') is ignored when average != 'binary' (got 'micro'). You may use labels=[pos_label] to specify a single positive class.\n",
      "  warnings.warn(\"Note that pos_label (set to %r) is ignored when \"\n"
     ]
    },
    {
     "name": "stdout",
     "output_type": "stream",
     "text": [
      "\n",
      "The Classification report is\n",
      "               precision    recall  f1-score   support\n",
      "\n",
      "       <=50K       0.90      0.95      0.92      3979\n",
      "        >50K       0.76      0.61      0.68      1133\n",
      "\n",
      "    accuracy                           0.87      5112\n",
      "   macro avg       0.83      0.78      0.80      5112\n",
      "weighted avg       0.87      0.87      0.87      5112\n",
      "\n"
     ]
    }
   ],
   "source": [
    "print('Accuracy is', accuracy_score(y_test,y.predict))\n",
    "print('F1 score is', f1_score(y_test,y.predict,pos_label='positive', average='micro'))\n",
    "\n",
    "print(\"\\nThe Classification report is\\n\", classification_report(y_test,y.predict))"
   ]
  },
  {
   "cell_type": "code",
   "execution_count": 79,
   "metadata": {},
   "outputs": [
    {
     "data": {
      "text/plain": [
       "array([[3765,  214],\n",
       "       [ 439,  694]], dtype=int64)"
      ]
     },
     "execution_count": 79,
     "metadata": {},
     "output_type": "execute_result"
    }
   ],
   "source": [
    "confusion_matrix(y_test,y.predict)"
   ]
  },
  {
   "cell_type": "markdown",
   "metadata": {},
   "source": [
    "# XG boost"
   ]
  },
  {
   "cell_type": "code",
   "execution_count": 81,
   "metadata": {},
   "outputs": [
    {
     "name": "stderr",
     "output_type": "stream",
     "text": [
      "C:\\Users\\HP\\anaconda3\\lib\\site-packages\\xgboost\\sklearn.py:892: UserWarning: The use of label encoder in XGBClassifier is deprecated and will be removed in a future release. To remove this warning, do the following: 1) Pass option use_label_encoder=False when constructing XGBClassifier object; and 2) Encode your labels (y) as integers starting with 0, i.e. 0, 1, 2, ..., [num_class - 1].\n",
      "  warnings.warn(label_encoder_deprecation_msg, UserWarning)\n"
     ]
    },
    {
     "name": "stdout",
     "output_type": "stream",
     "text": [
      "[19:38:45] WARNING: C:/Users/Administrator/workspace/xgboost-win64_release_1.3.0/src/learner.cc:1061: Starting in XGBoost 1.3.0, the default evaluation metric used with the objective 'binary:logistic' was changed from 'error' to 'logloss'. Explicitly set eval_metric if you'd like to restore the old behavior.\n"
     ]
    }
   ],
   "source": [
    "from xgboost import XGBClassifier\n",
    "xg_model = XGBClassifier()\n",
    "xg_model.fit(x_train, y_train)\n",
    "y.predict = xg_model.predict(x_test)"
   ]
  },
  {
   "cell_type": "code",
   "execution_count": 82,
   "metadata": {},
   "outputs": [
    {
     "name": "stdout",
     "output_type": "stream",
     "text": [
      "Accuracy is 0.8296165884194053\n",
      "F1 score is 0.8296165884194053\n",
      "\n",
      "The Classification report is\n",
      "               precision    recall  f1-score   support\n",
      "\n",
      "       <=50K       0.82      0.99      0.90      3979\n",
      "        >50K       0.91      0.26      0.40      1133\n",
      "\n",
      "    accuracy                           0.83      5112\n",
      "   macro avg       0.87      0.62      0.65      5112\n",
      "weighted avg       0.84      0.83      0.79      5112\n",
      "\n"
     ]
    }
   ],
   "source": [
    "print('Accuracy is', accuracy_score(y_test,y.predict))\n",
    "print('F1 score is', f1_score(y_test,y.predict,pos_label='positive', average='micro'))\n",
    "\n",
    "print(\"\\nThe Classification report is\\n\", classification_report(y_test,y.predict))"
   ]
  },
  {
   "cell_type": "code",
   "execution_count": 83,
   "metadata": {},
   "outputs": [
    {
     "data": {
      "text/plain": [
       "array([[3952,   27],\n",
       "       [ 844,  289]], dtype=int64)"
      ]
     },
     "execution_count": 83,
     "metadata": {},
     "output_type": "execute_result"
    }
   ],
   "source": [
    "confusion_matrix(y_test,y.predict)"
   ]
  },
  {
   "cell_type": "markdown",
   "metadata": {},
   "source": [
    "# Decision Tree"
   ]
  },
  {
   "cell_type": "code",
   "execution_count": 84,
   "metadata": {},
   "outputs": [],
   "source": [
    "from sklearn.tree import DecisionTreeClassifier\n",
    "dtc=DecisionTreeClassifier()\n",
    "dtc.fit(x_train,y_train)\n",
    "y_predict=dtc.predict(x_test)"
   ]
  },
  {
   "cell_type": "code",
   "execution_count": 85,
   "metadata": {},
   "outputs": [
    {
     "name": "stdout",
     "output_type": "stream",
     "text": [
      "Accuracy is 0.8296165884194053\n",
      "F1 score is 0.8296165884194053\n"
     ]
    },
    {
     "name": "stderr",
     "output_type": "stream",
     "text": [
      "C:\\Users\\HP\\anaconda3\\lib\\site-packages\\sklearn\\metrics\\_classification.py:1267: UserWarning: Note that pos_label (set to 'positive') is ignored when average != 'binary' (got 'micro'). You may use labels=[pos_label] to specify a single positive class.\n",
      "  warnings.warn(\"Note that pos_label (set to %r) is ignored when \"\n"
     ]
    },
    {
     "name": "stdout",
     "output_type": "stream",
     "text": [
      "\n",
      "The Classification report is\n",
      "               precision    recall  f1-score   support\n",
      "\n",
      "       <=50K       0.82      0.99      0.90      3979\n",
      "        >50K       0.91      0.26      0.40      1133\n",
      "\n",
      "    accuracy                           0.83      5112\n",
      "   macro avg       0.87      0.62      0.65      5112\n",
      "weighted avg       0.84      0.83      0.79      5112\n",
      "\n"
     ]
    }
   ],
   "source": [
    "\n",
    "print('Accuracy is', accuracy_score(y_test,y.predict))\n",
    "print('F1 score is', f1_score(y_test,y.predict,pos_label='positive', average='micro'))\n",
    "\n",
    "print(\"\\nThe Classification report is\\n\", classification_report(y_test,y.predict))"
   ]
  },
  {
   "cell_type": "code",
   "execution_count": 86,
   "metadata": {},
   "outputs": [
    {
     "data": {
      "text/plain": [
       "array([[3952,   27],\n",
       "       [ 844,  289]], dtype=int64)"
      ]
     },
     "execution_count": 86,
     "metadata": {},
     "output_type": "execute_result"
    }
   ],
   "source": [
    "confusion_matrix(y_test,y.predict)"
   ]
  },
  {
   "cell_type": "markdown",
   "metadata": {},
   "source": [
    "# SVM Linear"
   ]
  },
  {
   "cell_type": "code",
   "execution_count": 87,
   "metadata": {},
   "outputs": [],
   "source": [
    "from sklearn.svm import SVC\n",
    "svm_linear=SVC(kernel='linear')\n",
    "svm_linear.fit(x_train,y_train)\n",
    "y.predict=svm_linear.predict(x_test)\n"
   ]
  },
  {
   "cell_type": "code",
   "execution_count": 88,
   "metadata": {},
   "outputs": [
    {
     "name": "stdout",
     "output_type": "stream",
     "text": [
      "Accuracy is 0.8245305164319249\n",
      "F1 score is 0.8245305164319249\n"
     ]
    },
    {
     "name": "stderr",
     "output_type": "stream",
     "text": [
      "C:\\Users\\HP\\anaconda3\\lib\\site-packages\\sklearn\\metrics\\_classification.py:1267: UserWarning: Note that pos_label (set to 'positive') is ignored when average != 'binary' (got 'micro'). You may use labels=[pos_label] to specify a single positive class.\n",
      "  warnings.warn(\"Note that pos_label (set to %r) is ignored when \"\n"
     ]
    },
    {
     "name": "stdout",
     "output_type": "stream",
     "text": [
      "\n",
      "The Classification report is\n",
      "               precision    recall  f1-score   support\n",
      "\n",
      "       <=50K       0.83      0.97      0.90      3979\n",
      "        >50K       0.76      0.31      0.44      1133\n",
      "\n",
      "    accuracy                           0.82      5112\n",
      "   macro avg       0.79      0.64      0.67      5112\n",
      "weighted avg       0.81      0.82      0.79      5112\n",
      "\n"
     ]
    }
   ],
   "source": [
    "print('Accuracy is', accuracy_score(y_test,y.predict))\n",
    "print('F1 score is', f1_score(y_test,y.predict,pos_label='positive', average='micro'))\n",
    "\n",
    "print(\"\\nThe Classification report is\\n\", classification_report(y_test,y.predict))\n"
   ]
  },
  {
   "cell_type": "code",
   "execution_count": 89,
   "metadata": {},
   "outputs": [
    {
     "data": {
      "text/plain": [
       "array([[3866,  113],\n",
       "       [ 784,  349]], dtype=int64)"
      ]
     },
     "execution_count": 89,
     "metadata": {},
     "output_type": "execute_result"
    }
   ],
   "source": [
    "confusion_matrix(y_test,y.predict)"
   ]
  },
  {
   "cell_type": "markdown",
   "metadata": {},
   "source": [
    "# svm polynomial"
   ]
  },
  {
   "cell_type": "code",
   "execution_count": 90,
   "metadata": {},
   "outputs": [],
   "source": [
    "svm_poly=SVC(kernel='poly', degree=3)\n",
    "svm_poly.fit(x_train,y_train)\n",
    "y.predict=svm_poly.predict(x_test)"
   ]
  },
  {
   "cell_type": "code",
   "execution_count": 91,
   "metadata": {},
   "outputs": [
    {
     "name": "stdout",
     "output_type": "stream",
     "text": [
      "Accuracy is 0.84839593114241\n",
      "F1 score is 0.84839593114241\n"
     ]
    },
    {
     "name": "stderr",
     "output_type": "stream",
     "text": [
      "C:\\Users\\HP\\anaconda3\\lib\\site-packages\\sklearn\\metrics\\_classification.py:1267: UserWarning: Note that pos_label (set to 'positive') is ignored when average != 'binary' (got 'micro'). You may use labels=[pos_label] to specify a single positive class.\n",
      "  warnings.warn(\"Note that pos_label (set to %r) is ignored when \"\n"
     ]
    },
    {
     "name": "stdout",
     "output_type": "stream",
     "text": [
      "\n",
      "The Classification report is\n",
      "               precision    recall  f1-score   support\n",
      "\n",
      "       <=50K       0.87      0.95      0.91      3979\n",
      "        >50K       0.74      0.48      0.59      1133\n",
      "\n",
      "    accuracy                           0.85      5112\n",
      "   macro avg       0.80      0.72      0.75      5112\n",
      "weighted avg       0.84      0.85      0.84      5112\n",
      "\n"
     ]
    }
   ],
   "source": [
    "print('Accuracy is', accuracy_score(y_test,y.predict))\n",
    "print('F1 score is', f1_score(y_test,y.predict,pos_label='positive', average='micro'))\n",
    "\n",
    "print(\"\\nThe Classification report is\\n\", classification_report(y_test,y.predict))"
   ]
  },
  {
   "cell_type": "code",
   "execution_count": 92,
   "metadata": {},
   "outputs": [
    {
     "data": {
      "text/plain": [
       "array([[3788,  191],\n",
       "       [ 584,  549]], dtype=int64)"
      ]
     },
     "execution_count": 92,
     "metadata": {},
     "output_type": "execute_result"
    }
   ],
   "source": [
    "confusion_matrix(y_test,y.predict)"
   ]
  },
  {
   "cell_type": "markdown",
   "metadata": {},
   "source": [
    "# svm-radial"
   ]
  },
  {
   "cell_type": "code",
   "execution_count": 93,
   "metadata": {},
   "outputs": [],
   "source": [
    "svm_rad=SVC(kernel='rbf')\n",
    "svm_rad.fit(x_train,y_train)\n",
    "y.predict=svm_rad.predict(x_test)"
   ]
  },
  {
   "cell_type": "code",
   "execution_count": 94,
   "metadata": {},
   "outputs": [
    {
     "name": "stdout",
     "output_type": "stream",
     "text": [
      "Accuracy is 0.8511345852895149\n",
      "F1 score is 0.8511345852895149\n"
     ]
    },
    {
     "name": "stderr",
     "output_type": "stream",
     "text": [
      "C:\\Users\\HP\\anaconda3\\lib\\site-packages\\sklearn\\metrics\\_classification.py:1267: UserWarning: Note that pos_label (set to 'positive') is ignored when average != 'binary' (got 'micro'). You may use labels=[pos_label] to specify a single positive class.\n",
      "  warnings.warn(\"Note that pos_label (set to %r) is ignored when \"\n"
     ]
    },
    {
     "name": "stdout",
     "output_type": "stream",
     "text": [
      "\n",
      "The Classification report is\n",
      "               precision    recall  f1-score   support\n",
      "\n",
      "       <=50K       0.87      0.95      0.91      3979\n",
      "        >50K       0.74      0.51      0.60      1133\n",
      "\n",
      "    accuracy                           0.85      5112\n",
      "   macro avg       0.80      0.73      0.76      5112\n",
      "weighted avg       0.84      0.85      0.84      5112\n",
      "\n"
     ]
    }
   ],
   "source": [
    "print('Accuracy is', accuracy_score(y_test,y.predict))\n",
    "print('F1 score is', f1_score(y_test,y.predict,pos_label='positive', average='micro'))\n",
    "\n",
    "print(\"\\nThe Classification report is\\n\", classification_report(y_test,y.predict))"
   ]
  },
  {
   "cell_type": "code",
   "execution_count": 95,
   "metadata": {},
   "outputs": [
    {
     "data": {
      "text/plain": [
       "array([[3775,  204],\n",
       "       [ 557,  576]], dtype=int64)"
      ]
     },
     "execution_count": 95,
     "metadata": {},
     "output_type": "execute_result"
    }
   ],
   "source": [
    "confusion_matrix(y_test,y.predict)"
   ]
  },
  {
   "cell_type": "markdown",
   "metadata": {},
   "source": [
    "# Best Model is Gradient Boosting with 87.2%"
   ]
  },
  {
   "cell_type": "code",
   "execution_count": null,
   "metadata": {},
   "outputs": [],
   "source": []
  }
 ],
 "metadata": {
  "kernelspec": {
   "display_name": "Python 3",
   "language": "python",
   "name": "python3"
  },
  "language_info": {
   "codemirror_mode": {
    "name": "ipython",
    "version": 3
   },
   "file_extension": ".py",
   "mimetype": "text/x-python",
   "name": "python",
   "nbconvert_exporter": "python",
   "pygments_lexer": "ipython3",
   "version": "3.8.3"
  }
 },
 "nbformat": 4,
 "nbformat_minor": 4
}
